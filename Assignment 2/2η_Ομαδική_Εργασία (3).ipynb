{
  "cells": [
    {
      "cell_type": "markdown",
      "metadata": {
        "id": "LpnEVMCYYlnD"
      },
      "source": [
        "# **2η ομαδική εργασία στη Τεχνολογία και Ανάλυση Εικόνων και Βίντεο**\n",
        "\n",
        "\n",
        "#### Γρηγόριος Παπανικολάου\n",
        "#### Παναγιώτης Φίλιππος Παπαβασιλόπουλος"
      ]
    },
    {
      "cell_type": "markdown",
      "metadata": {
        "id": "OnlcpAJVja8n"
      },
      "source": [
        "# **Θεωρητικό Μέρος**"
      ]
    },
    {
      "cell_type": "markdown",
      "metadata": {
        "id": "kDH6oXglm5iy"
      },
      "source": [
        "<h2 align=\"justify\"><b>1. Περιγράψτε τη λειτουργία της Rectified Linear Unit (ReLU).</b></h2>"
      ]
    },
    {
      "cell_type": "markdown",
      "metadata": {
        "id": "mZ-DZfnyn-O8"
      },
      "source": [
        "<h3 align=\"justify\">Η συνάρτηση ενεργοποιήσης Rectified Linear Unit (ReLU) ορίζεται (όπως είδαμε και στο εργαστήριο 8.1) από τον ακόλουθο τύπο:</h3>\n",
        "\n",
        "$$\n",
        "f \\left( z \\right) = max \\left( 0, z \\right)\n",
        "$$\n",
        "\n",
        "<h3 align=\"justify\">Η συγκεκριμένη συνάρτηση λειτουργεί μη γραμμικά για τιμές μικρότερες του 0 επιστρέφοντας πάντα 0. Ωστόσο για θετικές τιμές συμπεριφέρεται όπως μια γραμμική συνάρτηση και επιστρέφει το input που της δόθηκε. Πιο συγκεκριμένα, μερικά από τα σημαντικότερα οφέλη αυτής της λειτουργίας είναι τ' ακόλουθα (όπως μπορούμε να δούμε στο δεύτερο άρθρo):</h3>\n",
        "<ul>\n",
        "<li align=\"justify\"><h3>Συγκριτικά με άλλες μη γραμμικές συναρτήσεις ενεργοποίησης (όπως για παράδειγμα την tanh και sigmoid) οδηγεί το μοντέλο σε γρηγορότερη σύγκλιση κατά τη διαδικασία εκπαίδευσης. Η προηγούμενη πρόταση, αποτυπώνεται ως μικρότερος αριθμός εποχών (iterations) κατά την εκπαίδευση των ίδιων μοντέλων, με διαφορετικές συναρτήσεις ενεργοποιήσης.</h3></li>\n",
        "<li align=\"justify\"><h3>Η συγκεκριμένη συνάρτηση ενεργοποίησης προσφέρει τη δυνατότητα χρήσης ιδιαιτέρως μεγάλων neural networks (με χρήση μεγάλων datasets) για δύο βασικούς λόγους. Αρχικά, γιατί αντιμετωπίζει το φαινόμενο του \"εύκολου\" κορεσμού, ενώ παράλληλα ολοκληρώνει την εκπαίδευση, με σχετικά μικρό αριθμό εποχών, χρησιμοποιώντας τεχνική βελτιστοποιήσης gradient descent.</h3></li>\n",
        "<li align=\"justify\"><h3>Επίσης, λόγω της ιδιαίτερης μορφής της, (δηλαδή το γεγονός ύπαρξης γραμμικού και μη γραμμικού κλάδου) παρατηρείται αραιή ενεργοποίηση νευρώνων. Έτσι, αντιμετωπίζει το φαινόμενο vanishing gradient, στο οποίο είναι ευάλωτες συναρτήσεις ενεργοποίησης, όπως η sigmoid. </h3></li>\n",
        "<li align=\"justify\"><h3>Τέλος, είναι υπολογιστικά πιο φθηνή, καθώς κάνει απλές συγκρίσεις, πολλαπλασιασμούς και προσθέσεις, σ' αντίθεση, με συναρτήσεις ενεργοποίησης που χρησιμοποιούν, εκθετικούς όρους.</h3></li>\n",
        "</ul>"
      ]
    },
    {
      "cell_type": "markdown",
      "metadata": {
        "id": "YaU2-1M6ms9b"
      },
      "source": [
        "<h2 align=\"justify\"><b>2. Παρουσιάστε ένα συγκριτικό πίνακα με τα επίπεδα, το μέγεθος των φίλτρων, συνάρτηση ενεργοποίησης, πλήθος παραμέτρων και τεχνικές pooling και dropout που χρησιμοποιούν τα 3 διαφορετικά δίκτυα που παρουσιάζονται στα προαναφερθέντα άρθρα και σχολιάστε επαρκώς τις διαφορές τους. Ποια χαρακτηριστικά αυτών των τριών δικτύων είναι κατά τη γνώμη σας αυτά που συνέβαλαν στη σταδιακή αύξηση της ακρίβειας ταξινόμησης;</b></h2>"
      ]
    },
    {
      "cell_type": "markdown",
      "metadata": {
        "id": "kMQe1815m-Vs"
      },
      "source": [
        "<h3 align=\"justify\">Στον παρακάτω πίνακα, παρατίθενται συγκριτικά, με βάση στοιχεία που συλλέξαμε από τα επιμέρους άρθρα, διάφορα δεδομένα για τα διαφορετικά δίκτυα που παρουσιάζονται. Ακόμα συμβουλευόμενοι και τις υλοποιήσεις που δίνονται στην εκφώνηση έχουμε τα παρακάτω:</h3>\n",
        "\n",
        "\n",
        "<table style=\"border: 1px solid black;\">\n",
        "  <tr style=\"border: 1px solid black;\">\n",
        "  <th style=\"border: 1px solid black;\"><h3>Μεγέθη</h3></th>\n",
        "  <th style=\"border: 1px solid black;\"><h3 align=\"center\">LeNet</h3></th>\n",
        "  <th style=\"border: 1px solid black;\"><h3 align=\"center\">AlexNet</h3></th>\n",
        "  <th style=\"border: 1px solid black;\"><h3 align=\"center\">VGG</h3></th>\n",
        "  </tr>\n",
        "  <tr style=\"border: 1px solid black;\">\n",
        "  <th style=\"border: 1px solid black;\"><h3>Αριθμός Επιπέδων</h3></th>\n",
        "  <th style=\"border: 1px solid black;\"><h3 align=\"center\">5</h3></th>\n",
        "  <th style=\"border: 1px solid black;\"><h3 align=\"center\">8</h3></th>\n",
        "  <th style=\"border: 1px solid black;\"><h3 align=\"center\">16</h3></th>\n",
        "  </tr>\n",
        "  <tr style=\"border: 1px solid black;\">\n",
        "  <th style=\"border: 1px solid black;\"><h3>Μέγεθος Φίλτρων</h3></th>\n",
        "  <th style=\"border: 1px solid black;\"><h3 align=\"center\">5</h3></th>\n",
        "  <th style=\"border: 1px solid black;\"><h3 align=\"center\">11, 5, 3  </h3></th>\n",
        "  <th style=\"border: 1px solid black;\"><h3 align=\"center\">3</h3></th>\n",
        "  </tr> \n",
        "  <tr style=\"border: 1px solid black;\">\n",
        "  <th style=\"border: 1px solid black;\"><h3>Συνάρτηση Ενεργοποιήσης</h3></th>\n",
        "  <th style=\"border: 1px solid black;\"><h3 align=\"center\">Sigmoid</h3></th>\n",
        "  <th style=\"border: 1px solid black;\"><h3 align=\"center\">ReLU,Softmax</h3></th>\n",
        "  <th style=\"border: 1px solid black;\"><h3 align=\"center\">ReLU</h3></th>\n",
        "  </tr>\n",
        "  <tr style=\"border: 1px solid black;\">\n",
        "  <th style=\"border: 1px solid black;\"><h3>Πλήθος παραμέτρων</h3></th>\n",
        "  <th style=\"border: 1px solid black;\"><h3 align=\"center\">2578</h3></th>\n",
        "  <th style=\"border: 1px solid black;\"><h3 align=\"center\">60 million</h3></th>\n",
        "  <th style=\"border: 1px solid black;\"><h3 align=\"center\">134 million</h3></th>\n",
        "  </tr>\n",
        "  <tr style=\"border: 1px solid black;\">\n",
        "  <th style=\"border: 1px solid black;\"><h3>Pooling</h3></th>\n",
        "  <th style=\"border: 1px solid black;\"><h3 align=\"center\">average pooling</h3></th>\n",
        "  <th style=\"border: 1px solid black;\"><h3 align=\"center\">max pooling</h3></th>\n",
        "  <th style=\"border: 1px solid black;\"><h3 align=\"center\">max pooling</h3></th>\n",
        "  </tr>\n",
        "  <tr style=\"border: 1px solid black;\">\n",
        "  <th style=\"border: 1px solid black;\"><h3>Dropout</h3></th>\n",
        "  <th style=\"border: 1px solid black;\"><h3 align=\"center\">-</h3></th>\n",
        "  <th style=\"border: 1px solid black;\"><h3 align=\"center\">p=0.5</h3></th>\n",
        "  <th style=\"border: 1px solid black;\"><h3 align=\"center\">p=0.5</h3></th>\n",
        "  </tr>  \n",
        "</table>\n",
        "<br />\n",
        "<br />\n",
        "<h3 align=\"justify\">Η αύξηση της ακρίβειας ταξινόμησης οφείλεται αρχικά στη χρήση μη γραμμικών συναρτήσεων ενεργοποίησης αλλά και στην ύπαρξη πολλών επιπέδων. Ακόμα είναι πολύ σημαντικό το γεγονός πως υπάρχει η δυνατότητα αλλαγής διαφόρων παραμέτρων μεμονωμένα ανά επίπεδο, προκειμένου να υπάρξει βελτιστοποίηση.</h3>"
      ]
    },
    {
      "cell_type": "markdown",
      "metadata": {
        "id": "Thp1Xq2OjjgZ"
      },
      "source": [
        "# **Υλοποιήση Αλγορίθμου**"
      ]
    },
    {
      "cell_type": "markdown",
      "metadata": {
        "id": "DfEMjsB4Yurm"
      },
      "source": [
        "## Εισαγωγή και επισκόπηση του συνόλου δεδομένων"
      ]
    },
    {
      "cell_type": "code",
      "execution_count": 1,
      "metadata": {
        "id": "STXQMBuN3nZ6"
      },
      "outputs": [],
      "source": [
        "from __future__ import absolute_import, division, print_function, unicode_literals # legacy compatibility\n",
        "\n",
        "import numpy as np\n",
        "import pandas as pd\n",
        "import matplotlib.pyplot as plt\n",
        "from keras.utils import np_utils"
      ]
    },
    {
      "cell_type": "code",
      "execution_count": 2,
      "metadata": {
        "id": "2WSEGPI9Q7tW"
      },
      "outputs": [],
      "source": [
        "# helper functions\n",
        "\n",
        "# select from from_list elements with index in index_list\n",
        "def select_from_list(from_list, index_list):\n",
        "  filtered_list= [from_list[i] for i in index_list]\n",
        "  return(filtered_list)\n",
        "\n",
        "# append in filtered_list the index of each element of unfilterd_list if it exists in in target_list\n",
        "def get_ds_index(unfiliterd_list, target_list):\n",
        "  index = 0\n",
        "  filtered_list=[]\n",
        "  for i_ in unfiliterd_list:\n",
        "    if i_[0] in target_list:\n",
        "      filtered_list.append(index)\n",
        "    index += 1\n",
        "  return(filtered_list)\n"
      ]
    },
    {
      "cell_type": "code",
      "execution_count": 3,
      "metadata": {
        "id": "OCW71UaGzz0Q"
      },
      "outputs": [],
      "source": [
        "# load the entire dataset\n",
        "import tensorflow as tf\n",
        "from tensorflow.keras import datasets, layers, models\n",
        "\n",
        "(x_train_all, y_train_all), (x_test_all, y_test_all) = tf.keras.datasets.cifar100.load_data(label_mode='fine')"
      ]
    },
    {
      "cell_type": "code",
      "execution_count": 4,
      "metadata": {
        "colab": {
          "base_uri": "https://localhost:8080/"
        },
        "id": "kGKYHffEE1do",
        "outputId": "09f46bbe-67d2-472d-a7f9-155b8a1dbb77"
      },
      "outputs": [
        {
          "output_type": "stream",
          "name": "stdout",
          "text": [
            "(50000, 32, 32, 3)\n"
          ]
        }
      ],
      "source": [
        "print(x_train_all.shape)"
      ]
    },
    {
      "cell_type": "markdown",
      "metadata": {
        "id": "9PO9wIwYUf0R"
      },
      "source": [
        "Η κάθε ομάδα θα δουλέψει με διαφορετικό υποσύνολο του dataset.\n",
        "Στο επόμενο κελί, αντικαταστήστε την τιμή της μεταβλητής `team_seed` με τον αριθμό που αντιστοιχεί στην ομάδας σας. "
      ]
    },
    {
      "cell_type": "code",
      "execution_count": 5,
      "metadata": {
        "id": "NN0kEze7uZ_G"
      },
      "outputs": [],
      "source": [
        "# REPLACE WITH YOUR TEAM NUMBER\n",
        "team_seed = 21"
      ]
    },
    {
      "cell_type": "code",
      "execution_count": 6,
      "metadata": {
        "id": "RhbZJW6PxUDJ"
      },
      "outputs": [],
      "source": [
        "# select from CIFAR100 20 classes\n",
        "cifar100_classes_url = \"https://pastebin.com/raw/nzE1n98V\""
      ]
    },
    {
      "cell_type": "markdown",
      "metadata": {
        "id": "yO9f6wb0Wi0H"
      },
      "source": [
        "Δημιουργούμε το μοναδικό dataset της ομάδας μας:"
      ]
    },
    {
      "cell_type": "code",
      "execution_count": 7,
      "metadata": {
        "id": "PgIN2h_KuCp_"
      },
      "outputs": [],
      "source": [
        "team_classes = pd.read_csv(cifar100_classes_url, sep=',', header=None)\n",
        "CIFAR100_LABELS_LIST = pd.read_csv('https://pastebin.com/raw/qgDaNggt', sep=',', header=None).astype(str).values.tolist()[0]\n",
        "\n",
        "our_index = team_classes.iloc[team_seed,:].values.tolist()\n",
        "our_classes = select_from_list(CIFAR100_LABELS_LIST, our_index)\n",
        "train_index = get_ds_index(y_train_all, our_index)\n",
        "test_index = get_ds_index(y_test_all, our_index)\n",
        "\n",
        "x_train_ds = np.asarray(select_from_list(x_train_all, train_index))\n",
        "y_train_ds = np.asarray(select_from_list(y_train_all, train_index))\n",
        "x_test_ds = np.asarray(select_from_list(x_test_all, test_index))\n",
        "y_test_ds = np.asarray(select_from_list(y_test_all, test_index))"
      ]
    },
    {
      "cell_type": "code",
      "execution_count": 8,
      "metadata": {
        "colab": {
          "base_uri": "https://localhost:8080/"
        },
        "id": "_B4-tvVOQq3j",
        "outputId": "8261a4b9-df58-4961-b462-7f700d83ae77"
      },
      "outputs": [
        {
          "output_type": "stream",
          "name": "stdout",
          "text": [
            "[' aquarium_fish', ' baby', ' bridge', ' camel', ' dinosaur', ' leopard', ' maple_tree', ' oak_tree', ' orange', ' pear', ' plain', ' rabbit', ' road', ' shrew', ' snail', ' squirrel', ' trout', ' willow_tree', ' wolf', ' worm']\n"
          ]
        }
      ],
      "source": [
        "# print our classes\n",
        "print(our_classes)"
      ]
    },
    {
      "cell_type": "code",
      "execution_count": 9,
      "metadata": {
        "colab": {
          "base_uri": "https://localhost:8080/"
        },
        "id": "bk5wy0u7GGMj",
        "outputId": "15892cd7-e1b5-4ab0-8e4d-9694f1548cc2"
      },
      "outputs": [
        {
          "output_type": "stream",
          "name": "stdout",
          "text": [
            "(32, 32, 3)\n"
          ]
        }
      ],
      "source": [
        "print(x_train_ds[1].shape)"
      ]
    },
    {
      "cell_type": "code",
      "execution_count": 10,
      "metadata": {
        "colab": {
          "base_uri": "https://localhost:8080/",
          "height": 659
        },
        "id": "QpGXgTs_5ZCk",
        "outputId": "7c36e881-2cce-4f07-e6ce-b2fd9e1266ec"
      },
      "outputs": [
        {
          "output_type": "stream",
          "name": "stdout",
          "text": [
            "Train: X=(8500, 32, 32, 3), y=(8500, 1)\n",
            "Validation: X=(1500, 32, 32, 3), y=(1500, 1)\n",
            "Test: X=(2000, 32, 32, 3), y=(2000, 1)\n"
          ]
        },
        {
          "output_type": "display_data",
          "data": {
            "text/plain": [
              "<Figure size 720x720 with 9 Axes>"
            ],
            "image/png": "[encoded data removed]"
          },
          "metadata": {
            "needs_background": "light"
          }
        }
      ],
      "source": [
        "# get (train) dataset dimensions\n",
        "data_size, img_rows, img_cols, img_channels = x_train_ds.shape\n",
        "\n",
        "# set validation set percentage (wrt the training set size)\n",
        "validation_percentage = 0.15\n",
        "val_size = round(validation_percentage * data_size)\n",
        "\n",
        "# Reserve val_size samples for validation and normalize all values\n",
        "x_val = x_train_ds[-val_size:]/255\n",
        "y_val = y_train_ds[-val_size:]\n",
        "x_train = x_train_ds[:-val_size]/255\n",
        "y_train = y_train_ds[:-val_size]\n",
        "x_test = x_test_ds/255\n",
        "y_test = y_test_ds\n",
        "\n",
        "# summarize loaded dataset\n",
        "print('Train: X=%s, y=%s' % (x_train.shape, y_train.shape))\n",
        "print('Validation: X=%s, y=%s' % (x_val.shape, y_val.shape))\n",
        "print('Test: X=%s, y=%s' % (x_test.shape, y_test.shape))\n",
        "\n",
        "# get class label from class index\n",
        "def class_label_from_index(fine_category):\n",
        "  return(CIFAR100_LABELS_LIST[fine_category.item(0)])\n",
        "\n",
        "# plot first few images\n",
        "plt.figure(figsize=(10, 10))\n",
        "for i in range(9):\n",
        "\t# define subplot\n",
        "  plt.subplot(330 + 1 + i).set_title(class_label_from_index(y_train[i]))\n",
        "\t# plot raw pixel data\n",
        "  plt.imshow(x_train[i], cmap=plt.get_cmap('gray'))\n",
        "  #show the figure\n",
        "plt.show()"
      ]
    },
    {
      "cell_type": "markdown",
      "metadata": {
        "id": "iAgowxR8oJH7"
      },
      "source": [
        "## Ερώτημα 1\n",
        "---\n",
        "#### Βήμα 1: Σχεδίαση, μεταγλώττιση και εκπαίδευση των μοντέλων\n",
        "\n",
        " 1. Σχεδίαστε, μεταγλωττίστε και εκπαιδεύστε τα μοντέλα  **LeNet, AlexNet και  VGG**, καθώς και ένα δικό σας μοντέλο (ονομάστε το π.χ. **MyCNN**) χρησιμοποιώντας διαφορετικούς συνδυασμούς (τουλάχιστον 2 ανά μοντέλο) για [optimizer](https://keras.io/api/optimizers/), [loss](https://keras.io/api/losses/), batch size και epoch.  Για [metrics](https://keras.io/api/metrics/) να χρησιμοποιήσετε την ορθότητα (όπως στο Lab8.1).\n",
        "---\n",
        "  \n",
        "#### Βήμα 2: Αξιολόγηση των μοντέλων\n",
        "\n",
        "1. Για κάθε ένα από τα μοντέλα που εκπαιδεύσατε, απεικονίστε σε κοινό διάγραμμα την ορθότητα εκπαίδευσης και την ορθότητα επικύρωσης στο σύνολο των εποχών, για κάθε διαφορετικό συνδυασμό του βήματος 1 και επιλέξτε αυτό με την καλύτερη ορθότητα από κάθε μοντέλο (ένα από κάθε αρχιτεκτονική, συνολικά 4).\n",
        "2. Για κάθε ένα από τα μοντέλα με την καλύτερη ορθότητα (συνολικά **4**), απεικονίστε σε κοινό διάγραμμα την ορθότητα εκπαίδευσης και την ορθότητα επικύρωσης στο σύνολο των εποχών.\n",
        "3. Αξιολογήστε, αναλυτικά, τα αποτελέσματά σας ως προς τα εξής:\n",
        " - Επίδραση του πλήθους των δεδομένων/κλάσεων στην απόδοση του μοντέλου\n",
        " - Επίδραση του αλγόριθμου βελτιστοποίησης (optimizer)\n",
        " - Επίδραση του μεγέθους δέσμης (batch size)\n",
        " \n",
        "---\n",
        "\n",
        "#### Βήμα 3: Αξιολόγηση ορθότητας\n",
        "Αξιολογήστε την ορθότητα για το test set σας.\n"
      ]
    },
    {
      "cell_type": "markdown",
      "metadata": {
        "id": "CkmlkTGxFkDm"
      },
      "source": [
        "#### Βήμα 1"
      ]
    },
    {
      "cell_type": "markdown",
      "metadata": {
        "id": "uSsHerFuns1m"
      },
      "source": [
        "Αρχικά θα δημιουργήσουμε ένα mapping των κλάσεων και στη συνέχεια θα το εφαρμόσουμε στα y_train,y_val,y_test."
      ]
    },
    {
      "cell_type": "code",
      "execution_count": 11,
      "metadata": {
        "colab": {
          "base_uri": "https://localhost:8080/"
        },
        "id": "Lz2L_481nskW",
        "outputId": "0fcd035f-ccc4-4e0b-d2c1-91aa86b0f69a"
      },
      "outputs": [
        {
          "output_type": "stream",
          "name": "stdout",
          "text": [
            "{29: 0, 1: 1, 96: 2, 97: 3, 80: 4, 74: 5, 52: 6, 42: 7, 47: 8, 65: 9, 53: 10, 15: 11, 77: 12, 99: 13, 68: 14, 12: 15, 2: 16, 57: 17, 60: 18, 91: 19}\n"
          ]
        }
      ],
      "source": [
        "#δημιουργία mapping\n",
        "dict={}\n",
        "temp=0\n",
        "for index in y_train.reshape(1,-1)[0]:\n",
        "  if index not in dict.keys():\n",
        "    dict[index]=temp\n",
        "    temp+=1\n",
        "print(dict)"
      ]
    },
    {
      "cell_type": "code",
      "execution_count": 12,
      "metadata": {
        "id": "zCwOGCFinsZu"
      },
      "outputs": [],
      "source": [
        "#εφαρμογή mapping\n",
        "for i in range(len(y_train)):\n",
        "  y_train[i][0] = dict[y_train[i][0]]\n",
        "\n",
        "for i in range(len(y_val)):\n",
        "  y_val[i][0] = dict[y_val[i][0]]\n",
        "\n",
        "for i in range(len(y_test)):\n",
        "  y_test[i][0] = dict[y_test[i][0]]"
      ]
    },
    {
      "cell_type": "markdown",
      "metadata": {
        "id": "_DLgHCo38Jhl"
      },
      "source": [
        "Επίσης θα κάνουμε resize τις εικόνες άναλογα με την είσοδο που χρειάζεται κάθε μοντέλο όπως φαίνεται στο επόμενο κελί."
      ]
    },
    {
      "cell_type": "markdown",
      "metadata": {
        "id": "ZQ7iFnN0NZy5"
      },
      "source": [
        "<b>LeNet</b>"
      ]
    },
    {
      "cell_type": "code",
      "execution_count": 158,
      "metadata": {
        "id": "keevcGWue-aF"
      },
      "outputs": [],
      "source": [
        "x_train28=tf.image.resize(x_train,(28,28))\n",
        "x_val28=tf.image.resize(x_val,(28,28))\n",
        "x_test28=tf.image.resize(x_test,(28,28))\n",
        "def LeNet():\n",
        "    return tf.keras.models.Sequential([\n",
        "        tf.keras.layers.Conv2D(filters=6, kernel_size=5, activation='sigmoid',\n",
        "                               padding='same', input_shape=(28, 28, 3)),\n",
        "        tf.keras.layers.AvgPool2D(pool_size=2, strides=2),\n",
        "        tf.keras.layers.Conv2D(filters=16, kernel_size=5,\n",
        "                               activation='sigmoid'),\n",
        "        tf.keras.layers.AvgPool2D(pool_size=2, strides=2),\n",
        "        tf.keras.layers.Flatten(),\n",
        "        tf.keras.layers.Dense(120, activation='sigmoid'),\n",
        "        tf.keras.layers.Dense(84, activation='sigmoid'),\n",
        "        tf.keras.layers.Dense(20)])"
      ]
    },
    {
      "cell_type": "markdown",
      "metadata": {
        "id": "pfwHANWLvcrA"
      },
      "source": [
        "<p align=\"justify\">Αρχικά θα κάνουμε \"compile\" και \"fit\" με τις προδιαγραφές που δίνονται παρακάτω:</p>\n",
        "<ul>\n",
        "<li>Epochs : 10</li>\n",
        "<li>Batch Size : 64</li>\n",
        "<li>Optimizer: Adam</li>\n",
        "<li>Loss : SparseCategoricalCrossentropy</li>\n",
        "<ul>"
      ]
    },
    {
      "cell_type": "code",
      "execution_count": 159,
      "metadata": {
        "colab": {
          "base_uri": "https://localhost:8080/"
        },
        "id": "HNjGiX28vcYF",
        "outputId": "a0934019-fd77-4728-e002-0dd479cc8296"
      },
      "outputs": [
        {
          "output_type": "stream",
          "name": "stdout",
          "text": [
            "Epoch 1/10\n",
            "133/133 [==============================] - 1s 6ms/step - loss: 3.0108 - accuracy: 0.0459 - val_loss: 2.9901 - val_accuracy: 0.0573\n",
            "Epoch 2/10\n",
            "133/133 [==============================] - 1s 4ms/step - loss: 2.9025 - accuracy: 0.1084 - val_loss: 2.7847 - val_accuracy: 0.1527\n",
            "Epoch 3/10\n",
            "133/133 [==============================] - 1s 4ms/step - loss: 2.6764 - accuracy: 0.1682 - val_loss: 2.5543 - val_accuracy: 0.1873\n",
            "Epoch 4/10\n",
            "133/133 [==============================] - 1s 4ms/step - loss: 2.5218 - accuracy: 0.1966 - val_loss: 2.4447 - val_accuracy: 0.2387\n",
            "Epoch 5/10\n",
            "133/133 [==============================] - 1s 4ms/step - loss: 2.4366 - accuracy: 0.2289 - val_loss: 2.3588 - val_accuracy: 0.2407\n",
            "Epoch 6/10\n",
            "133/133 [==============================] - 1s 4ms/step - loss: 2.3608 - accuracy: 0.2541 - val_loss: 2.2820 - val_accuracy: 0.2540\n",
            "Epoch 7/10\n",
            "133/133 [==============================] - 1s 4ms/step - loss: 2.2892 - accuracy: 0.2795 - val_loss: 2.2393 - val_accuracy: 0.2893\n",
            "Epoch 8/10\n",
            "133/133 [==============================] - 1s 4ms/step - loss: 2.2310 - accuracy: 0.2859 - val_loss: 2.1767 - val_accuracy: 0.3160\n",
            "Epoch 9/10\n",
            "133/133 [==============================] - 1s 4ms/step - loss: 2.1806 - accuracy: 0.3085 - val_loss: 2.1660 - val_accuracy: 0.3113\n",
            "Epoch 10/10\n",
            "133/133 [==============================] - 1s 4ms/step - loss: 2.1350 - accuracy: 0.3249 - val_loss: 2.1146 - val_accuracy: 0.3153\n"
          ]
        }
      ],
      "source": [
        "LeNet1 = LeNet()\n",
        "\n",
        "LeNet1.compile(optimizer='adam',\n",
        "               loss=tf.keras.losses.SparseCategoricalCrossentropy(from_logits=True),\n",
        "               metrics=['accuracy'])\n",
        "\n",
        "LeNet1_hist = LeNet1.fit(x_train28, y_train,\n",
        "                         epochs=10, batch_size=64,\n",
        "                         validation_data=(x_val28, y_val))"
      ]
    },
    {
      "cell_type": "markdown",
      "metadata": {
        "id": "lg9WhTQhAa9L"
      },
      "source": [
        "<p align=\"justify\">Στη συνέχεια θα κάνουμε \"compile\" και \"fit\" με τις προδιαγραφές που δίνονται παρακάτω (αλλάζοντας σε σχέση με πριν τον αριθμό των εποχών).</p>\n",
        "<ul>\n",
        "<li>Epochs : 30</li>\n",
        "<li>Batch Size : 64</li>\n",
        "<li>Optimizer: Adam</li>\n",
        "<li>Loss : SparseCategoricalCrossentropy</li>\n",
        "<ul>"
      ]
    },
    {
      "cell_type": "code",
      "execution_count": 160,
      "metadata": {
        "colab": {
          "base_uri": "https://localhost:8080/"
        },
        "id": "Q1GEDbsiAmOn",
        "outputId": "fc5fbc69-748e-4790-e1cd-50b1e17d831f"
      },
      "outputs": [
        {
          "output_type": "stream",
          "name": "stdout",
          "text": [
            "Epoch 1/30\n",
            "133/133 [==============================] - 1s 5ms/step - loss: 3.0095 - accuracy: 0.0491 - val_loss: 2.9920 - val_accuracy: 0.0533\n",
            "Epoch 2/30\n",
            "133/133 [==============================] - 1s 4ms/step - loss: 2.9181 - accuracy: 0.0973 - val_loss: 2.7601 - val_accuracy: 0.1307\n",
            "Epoch 3/30\n",
            "133/133 [==============================] - 1s 4ms/step - loss: 2.6373 - accuracy: 0.1719 - val_loss: 2.5506 - val_accuracy: 0.1713\n",
            "Epoch 4/30\n",
            "133/133 [==============================] - 1s 4ms/step - loss: 2.4998 - accuracy: 0.1988 - val_loss: 2.4321 - val_accuracy: 0.2333\n",
            "Epoch 5/30\n",
            "133/133 [==============================] - 1s 4ms/step - loss: 2.4187 - accuracy: 0.2346 - val_loss: 2.3858 - val_accuracy: 0.2427\n",
            "Epoch 6/30\n",
            "133/133 [==============================] - 1s 4ms/step - loss: 2.3578 - accuracy: 0.2524 - val_loss: 2.2954 - val_accuracy: 0.2687\n",
            "Epoch 7/30\n",
            "133/133 [==============================] - 1s 4ms/step - loss: 2.2923 - accuracy: 0.2733 - val_loss: 2.2497 - val_accuracy: 0.2887\n",
            "Epoch 8/30\n",
            "133/133 [==============================] - 1s 4ms/step - loss: 2.2390 - accuracy: 0.2860 - val_loss: 2.2080 - val_accuracy: 0.3013\n",
            "Epoch 9/30\n",
            "133/133 [==============================] - 1s 4ms/step - loss: 2.1911 - accuracy: 0.3038 - val_loss: 2.1591 - val_accuracy: 0.3113\n",
            "Epoch 10/30\n",
            "133/133 [==============================] - 1s 4ms/step - loss: 2.1441 - accuracy: 0.3187 - val_loss: 2.1265 - val_accuracy: 0.3207\n",
            "Epoch 11/30\n",
            "133/133 [==============================] - 1s 4ms/step - loss: 2.1143 - accuracy: 0.3309 - val_loss: 2.1038 - val_accuracy: 0.3140\n",
            "Epoch 12/30\n",
            "133/133 [==============================] - 1s 4ms/step - loss: 2.0775 - accuracy: 0.3380 - val_loss: 2.0764 - val_accuracy: 0.3533\n",
            "Epoch 13/30\n",
            "133/133 [==============================] - 1s 4ms/step - loss: 2.0462 - accuracy: 0.3447 - val_loss: 2.0528 - val_accuracy: 0.3420\n",
            "Epoch 14/30\n",
            "133/133 [==============================] - 1s 4ms/step - loss: 2.0211 - accuracy: 0.3593 - val_loss: 2.0133 - val_accuracy: 0.3587\n",
            "Epoch 15/30\n",
            "133/133 [==============================] - 1s 4ms/step - loss: 1.9951 - accuracy: 0.3693 - val_loss: 2.0209 - val_accuracy: 0.3547\n",
            "Epoch 16/30\n",
            "133/133 [==============================] - 1s 4ms/step - loss: 1.9695 - accuracy: 0.3801 - val_loss: 1.9895 - val_accuracy: 0.3680\n",
            "Epoch 17/30\n",
            "133/133 [==============================] - 1s 4ms/step - loss: 1.9541 - accuracy: 0.3839 - val_loss: 1.9761 - val_accuracy: 0.3773\n",
            "Epoch 18/30\n",
            "133/133 [==============================] - 1s 4ms/step - loss: 1.9281 - accuracy: 0.3885 - val_loss: 1.9725 - val_accuracy: 0.3773\n",
            "Epoch 19/30\n",
            "133/133 [==============================] - 1s 4ms/step - loss: 1.9165 - accuracy: 0.3961 - val_loss: 1.9368 - val_accuracy: 0.3947\n",
            "Epoch 20/30\n",
            "133/133 [==============================] - 1s 4ms/step - loss: 1.8975 - accuracy: 0.3988 - val_loss: 1.9238 - val_accuracy: 0.3867\n",
            "Epoch 21/30\n",
            "133/133 [==============================] - 1s 4ms/step - loss: 1.8783 - accuracy: 0.4072 - val_loss: 1.9186 - val_accuracy: 0.3967\n",
            "Epoch 22/30\n",
            "133/133 [==============================] - 1s 4ms/step - loss: 1.8630 - accuracy: 0.4108 - val_loss: 1.9100 - val_accuracy: 0.3900\n",
            "Epoch 23/30\n",
            "133/133 [==============================] - 1s 4ms/step - loss: 1.8429 - accuracy: 0.4202 - val_loss: 1.8914 - val_accuracy: 0.3960\n",
            "Epoch 24/30\n",
            "133/133 [==============================] - 1s 4ms/step - loss: 1.8356 - accuracy: 0.4205 - val_loss: 1.8915 - val_accuracy: 0.4007\n",
            "Epoch 25/30\n",
            "133/133 [==============================] - 1s 4ms/step - loss: 1.8190 - accuracy: 0.4289 - val_loss: 1.8745 - val_accuracy: 0.4027\n",
            "Epoch 26/30\n",
            "133/133 [==============================] - 1s 4ms/step - loss: 1.8059 - accuracy: 0.4273 - val_loss: 1.8679 - val_accuracy: 0.4107\n",
            "Epoch 27/30\n",
            "133/133 [==============================] - 1s 4ms/step - loss: 1.7936 - accuracy: 0.4338 - val_loss: 1.8716 - val_accuracy: 0.4007\n",
            "Epoch 28/30\n",
            "133/133 [==============================] - 1s 4ms/step - loss: 1.7853 - accuracy: 0.4359 - val_loss: 1.8423 - val_accuracy: 0.4100\n",
            "Epoch 29/30\n",
            "133/133 [==============================] - 1s 4ms/step - loss: 1.7675 - accuracy: 0.4399 - val_loss: 1.8486 - val_accuracy: 0.4113\n",
            "Epoch 30/30\n",
            "133/133 [==============================] - 1s 4ms/step - loss: 1.7590 - accuracy: 0.4427 - val_loss: 1.8487 - val_accuracy: 0.4093\n"
          ]
        }
      ],
      "source": [
        "LeNet2 = LeNet()\n",
        "\n",
        "LeNet2.compile(optimizer='adam',\n",
        "               loss=tf.keras.losses.SparseCategoricalCrossentropy(from_logits=True),\n",
        "               metrics=['accuracy'])\n",
        "\n",
        "LeNet2_hist = LeNet2.fit(x_train28, y_train,\n",
        "                         epochs=30, batch_size=64,\n",
        "                         validation_data=(x_val28, y_val))"
      ]
    },
    {
      "cell_type": "markdown",
      "metadata": {
        "id": "-f7YftfaNKbt"
      },
      "source": [
        "<b>AlexNet</b>"
      ]
    },
    {
      "cell_type": "markdown",
      "metadata": {
        "id": "GLnRF27sNk_Y"
      },
      "source": [
        "Με βάση την υλοποίηση που βλέπουμε στον σύνδεσμο που μας δίνεται θα έχουμε τα παρακάτω:"
      ]
    },
    {
      "cell_type": "code",
      "execution_count": 161,
      "metadata": {
        "id": "ExR-W-1rNjkL"
      },
      "outputs": [],
      "source": [
        "x_train224=tf.image.resize(x_train,(224,224))\n",
        "x_val224=tf.image.resize(x_val,(224,224))\n",
        "x_test224=tf.image.resize(x_test,(224,224))\n",
        "def AlexNet():\n",
        "    return tf.keras.models.Sequential([\n",
        "        tf.keras.layers.Conv2D(filters=96, kernel_size=11, strides=4,\n",
        "                               activation='relu'),\n",
        "        tf.keras.layers.MaxPool2D(pool_size=3, strides=2),\n",
        "        tf.keras.layers.Conv2D(filters=256, kernel_size=5, padding='same',\n",
        "                               activation='relu'),\n",
        "        tf.keras.layers.MaxPool2D(pool_size=3, strides=2),\n",
        "        tf.keras.layers.Conv2D(filters=384, kernel_size=3, padding='same',\n",
        "                               activation='relu'),\n",
        "        tf.keras.layers.Conv2D(filters=384, kernel_size=3, padding='same',\n",
        "                               activation='relu'),\n",
        "        tf.keras.layers.Conv2D(filters=256, kernel_size=3, padding='same',\n",
        "                               activation='relu'),\n",
        "        tf.keras.layers.MaxPool2D(pool_size=3, strides=2),\n",
        "        tf.keras.layers.Flatten(),\n",
        "        tf.keras.layers.Dense(4096, activation='relu'),\n",
        "        tf.keras.layers.Dropout(0.5),\n",
        "        tf.keras.layers.Dense(4096, activation='relu'),\n",
        "        tf.keras.layers.Dropout(0.5),\n",
        "        tf.keras.layers.Dense(20)\n",
        "    ])                                  "
      ]
    },
    {
      "cell_type": "markdown",
      "metadata": {
        "id": "4bf3A0uGPhe1"
      },
      "source": [
        "<p align=\"justify\">Αρχικά θα κάνουμε \"compile\" και \"fit\" με τις προδιαγραφές που δίνονται παρακάτω:</p>\n",
        "<ul>\n",
        "<li>Epochs : 30</li>\n",
        "<li>Batch Size : 128</li>\n",
        "<li>Optimizer: Adam</li>\n",
        "<li>Loss : SparseCategoricalCrossentropy</li>\n",
        "<ul>"
      ]
    },
    {
      "cell_type": "code",
      "execution_count": 162,
      "metadata": {
        "colab": {
          "base_uri": "https://localhost:8080/"
        },
        "id": "ssqaAFBPQFnY",
        "outputId": "375e7275-e3e4-422b-d6e0-caba5cdeea56"
      },
      "outputs": [
        {
          "output_type": "stream",
          "name": "stdout",
          "text": [
            "Epoch 1/30\n",
            "67/67 [==============================] - 15s 176ms/step - loss: 3.0756 - accuracy: 0.0705 - val_loss: 2.7785 - val_accuracy: 0.1153\n",
            "Epoch 2/30\n",
            "67/67 [==============================] - 9s 139ms/step - loss: 2.5254 - accuracy: 0.1947 - val_loss: 2.2321 - val_accuracy: 0.2913\n",
            "Epoch 3/30\n",
            "67/67 [==============================] - 9s 137ms/step - loss: 2.1990 - accuracy: 0.2953 - val_loss: 2.0212 - val_accuracy: 0.3587\n",
            "Epoch 4/30\n",
            "67/67 [==============================] - 9s 136ms/step - loss: 2.0104 - accuracy: 0.3546 - val_loss: 1.8775 - val_accuracy: 0.3700\n",
            "Epoch 5/30\n",
            "67/67 [==============================] - 9s 135ms/step - loss: 1.8845 - accuracy: 0.3935 - val_loss: 1.8278 - val_accuracy: 0.4167\n",
            "Epoch 6/30\n",
            "67/67 [==============================] - 9s 136ms/step - loss: 1.7796 - accuracy: 0.4321 - val_loss: 1.8023 - val_accuracy: 0.4267\n",
            "Epoch 7/30\n",
            "67/67 [==============================] - 9s 135ms/step - loss: 1.7443 - accuracy: 0.4428 - val_loss: 1.7649 - val_accuracy: 0.4260\n",
            "Epoch 8/30\n",
            "67/67 [==============================] - 9s 136ms/step - loss: 1.6516 - accuracy: 0.4711 - val_loss: 1.8542 - val_accuracy: 0.4267\n",
            "Epoch 9/30\n",
            "67/67 [==============================] - 9s 136ms/step - loss: 1.5923 - accuracy: 0.4882 - val_loss: 1.7119 - val_accuracy: 0.4653\n",
            "Epoch 10/30\n",
            "67/67 [==============================] - 9s 137ms/step - loss: 1.5007 - accuracy: 0.5188 - val_loss: 1.7059 - val_accuracy: 0.4667\n",
            "Epoch 11/30\n",
            "67/67 [==============================] - 9s 137ms/step - loss: 1.4534 - accuracy: 0.5259 - val_loss: 1.6052 - val_accuracy: 0.4893\n",
            "Epoch 12/30\n",
            "67/67 [==============================] - 9s 136ms/step - loss: 1.3283 - accuracy: 0.5681 - val_loss: 1.6137 - val_accuracy: 0.4967\n",
            "Epoch 13/30\n",
            "67/67 [==============================] - 9s 136ms/step - loss: 1.2375 - accuracy: 0.5971 - val_loss: 1.6367 - val_accuracy: 0.5007\n",
            "Epoch 14/30\n",
            "67/67 [==============================] - 9s 136ms/step - loss: 1.1496 - accuracy: 0.6235 - val_loss: 1.7070 - val_accuracy: 0.4993\n",
            "Epoch 15/30\n",
            "67/67 [==============================] - 9s 137ms/step - loss: 1.0864 - accuracy: 0.6464 - val_loss: 1.6203 - val_accuracy: 0.5153\n",
            "Epoch 16/30\n",
            "67/67 [==============================] - 9s 136ms/step - loss: 0.9763 - accuracy: 0.6795 - val_loss: 1.7571 - val_accuracy: 0.4907\n",
            "Epoch 17/30\n",
            "67/67 [==============================] - 9s 136ms/step - loss: 0.8871 - accuracy: 0.7086 - val_loss: 1.8035 - val_accuracy: 0.4833\n",
            "Epoch 18/30\n",
            "67/67 [==============================] - 9s 136ms/step - loss: 0.7812 - accuracy: 0.7372 - val_loss: 1.8017 - val_accuracy: 0.5027\n",
            "Epoch 19/30\n",
            "67/67 [==============================] - 9s 137ms/step - loss: 0.6909 - accuracy: 0.7673 - val_loss: 1.9723 - val_accuracy: 0.5073\n",
            "Epoch 20/30\n",
            "67/67 [==============================] - 9s 137ms/step - loss: 0.6379 - accuracy: 0.7875 - val_loss: 1.9410 - val_accuracy: 0.4960\n",
            "Epoch 21/30\n",
            "67/67 [==============================] - 9s 137ms/step - loss: 0.5544 - accuracy: 0.8151 - val_loss: 1.9944 - val_accuracy: 0.5200\n",
            "Epoch 22/30\n",
            "67/67 [==============================] - 9s 136ms/step - loss: 0.5294 - accuracy: 0.8222 - val_loss: 2.1157 - val_accuracy: 0.4927\n",
            "Epoch 23/30\n",
            "67/67 [==============================] - 9s 136ms/step - loss: 0.4718 - accuracy: 0.8425 - val_loss: 2.1291 - val_accuracy: 0.4980\n",
            "Epoch 24/30\n",
            "67/67 [==============================] - 9s 136ms/step - loss: 0.4251 - accuracy: 0.8593 - val_loss: 2.3255 - val_accuracy: 0.5100\n",
            "Epoch 25/30\n",
            "67/67 [==============================] - 9s 136ms/step - loss: 0.3491 - accuracy: 0.8842 - val_loss: 2.4556 - val_accuracy: 0.5027\n",
            "Epoch 26/30\n",
            "67/67 [==============================] - 9s 136ms/step - loss: 0.3478 - accuracy: 0.8869 - val_loss: 2.5086 - val_accuracy: 0.5073\n",
            "Epoch 27/30\n",
            "67/67 [==============================] - 9s 136ms/step - loss: 0.3213 - accuracy: 0.8968 - val_loss: 2.6268 - val_accuracy: 0.5033\n",
            "Epoch 28/30\n",
            "67/67 [==============================] - 9s 136ms/step - loss: 0.3007 - accuracy: 0.8975 - val_loss: 2.6073 - val_accuracy: 0.5127\n",
            "Epoch 29/30\n",
            "67/67 [==============================] - 9s 136ms/step - loss: 0.2435 - accuracy: 0.9174 - val_loss: 2.6842 - val_accuracy: 0.5133\n",
            "Epoch 30/30\n",
            "67/67 [==============================] - 9s 136ms/step - loss: 0.2441 - accuracy: 0.9194 - val_loss: 2.6679 - val_accuracy: 0.5133\n"
          ]
        }
      ],
      "source": [
        "AlexNet1 = AlexNet()\n",
        "\n",
        "AlexNet1.compile(optimizer='adam',\n",
        "               loss=tf.keras.losses.SparseCategoricalCrossentropy(from_logits=True),\n",
        "               metrics=['accuracy'])\n",
        "\n",
        "AlexNet1_hist = AlexNet1.fit(x_train224, y_train,\n",
        "                         epochs=30, batch_size=128,\n",
        "                         validation_data=(x_val224, y_val))"
      ]
    },
    {
      "cell_type": "markdown",
      "metadata": {
        "id": "dymls5zHPyN-"
      },
      "source": [
        "<p align=\"justify\">Στη συνέχεια θα κάνουμε \"compile\" και \"fit\" με τις προδιαγραφές που δίνονται παρακάτω:</p>\n",
        "<ul>\n",
        "<li>Epochs : 30</li>\n",
        "<li>Batch Size : 128</li>\n",
        "<li>Optimizer : SGD</li>\n",
        "<li>Loss : SparseCategoricalCrossentropy</li>\n",
        "<ul>"
      ]
    },
    {
      "cell_type": "code",
      "execution_count": 163,
      "metadata": {
        "colab": {
          "base_uri": "https://localhost:8080/"
        },
        "id": "7tnq4QTBQGCE",
        "outputId": "8eb17fd2-362b-4836-d0ea-7b71798c3cee"
      },
      "outputs": [
        {
          "output_type": "stream",
          "name": "stdout",
          "text": [
            "Epoch 1/30\n",
            "67/67 [==============================] - 35s 138ms/step - loss: 2.9930 - accuracy: 0.0602 - val_loss: 2.9883 - val_accuracy: 0.0647\n",
            "Epoch 2/30\n",
            "67/67 [==============================] - 9s 136ms/step - loss: 2.9857 - accuracy: 0.0765 - val_loss: 2.9733 - val_accuracy: 0.0713\n",
            "Epoch 3/30\n",
            "67/67 [==============================] - 9s 139ms/step - loss: 2.9607 - accuracy: 0.0946 - val_loss: 2.9080 - val_accuracy: 0.1173\n",
            "Epoch 4/30\n",
            "67/67 [==============================] - 9s 139ms/step - loss: 2.8712 - accuracy: 0.1159 - val_loss: 2.7370 - val_accuracy: 0.1647\n",
            "Epoch 5/30\n",
            "67/67 [==============================] - 9s 137ms/step - loss: 2.7332 - accuracy: 0.1472 - val_loss: 2.5160 - val_accuracy: 0.2173\n",
            "Epoch 6/30\n",
            "67/67 [==============================] - 9s 136ms/step - loss: 2.6134 - accuracy: 0.1795 - val_loss: 2.4259 - val_accuracy: 0.2507\n",
            "Epoch 7/30\n",
            "67/67 [==============================] - 9s 135ms/step - loss: 2.5093 - accuracy: 0.2101 - val_loss: 2.3586 - val_accuracy: 0.2613\n",
            "Epoch 8/30\n",
            "67/67 [==============================] - 9s 135ms/step - loss: 2.4213 - accuracy: 0.2336 - val_loss: 2.2955 - val_accuracy: 0.2860\n",
            "Epoch 9/30\n",
            "67/67 [==============================] - 9s 135ms/step - loss: 2.3528 - accuracy: 0.2494 - val_loss: 2.1981 - val_accuracy: 0.2947\n",
            "Epoch 10/30\n",
            "67/67 [==============================] - 9s 135ms/step - loss: 2.2990 - accuracy: 0.2689 - val_loss: 2.2598 - val_accuracy: 0.2787\n",
            "Epoch 11/30\n",
            "67/67 [==============================] - 10s 144ms/step - loss: 2.2512 - accuracy: 0.2875 - val_loss: 2.3489 - val_accuracy: 0.2673\n",
            "Epoch 12/30\n",
            "67/67 [==============================] - 9s 136ms/step - loss: 2.1956 - accuracy: 0.3031 - val_loss: 2.0550 - val_accuracy: 0.3593\n",
            "Epoch 13/30\n",
            "67/67 [==============================] - 10s 145ms/step - loss: 2.1531 - accuracy: 0.3199 - val_loss: 2.0292 - val_accuracy: 0.3647\n",
            "Epoch 14/30\n",
            "67/67 [==============================] - 9s 136ms/step - loss: 2.1155 - accuracy: 0.3306 - val_loss: 2.5590 - val_accuracy: 0.2773\n",
            "Epoch 15/30\n",
            "67/67 [==============================] - 10s 145ms/step - loss: 2.0918 - accuracy: 0.3381 - val_loss: 2.0246 - val_accuracy: 0.3273\n",
            "Epoch 16/30\n",
            "67/67 [==============================] - 9s 136ms/step - loss: 2.0491 - accuracy: 0.3475 - val_loss: 1.9934 - val_accuracy: 0.3687\n",
            "Epoch 17/30\n",
            "67/67 [==============================] - 9s 136ms/step - loss: 2.0163 - accuracy: 0.3635 - val_loss: 2.0215 - val_accuracy: 0.3587\n",
            "Epoch 18/30\n",
            "67/67 [==============================] - 9s 135ms/step - loss: 1.9923 - accuracy: 0.3749 - val_loss: 1.8994 - val_accuracy: 0.3993\n",
            "Epoch 19/30\n",
            "67/67 [==============================] - 9s 136ms/step - loss: 1.9457 - accuracy: 0.3885 - val_loss: 1.8454 - val_accuracy: 0.4187\n",
            "Epoch 20/30\n",
            "67/67 [==============================] - 9s 136ms/step - loss: 1.9167 - accuracy: 0.3921 - val_loss: 1.8957 - val_accuracy: 0.4060\n",
            "Epoch 21/30\n",
            "67/67 [==============================] - 9s 136ms/step - loss: 1.9081 - accuracy: 0.3998 - val_loss: 1.8988 - val_accuracy: 0.3947\n",
            "Epoch 22/30\n",
            "67/67 [==============================] - 9s 136ms/step - loss: 1.8745 - accuracy: 0.4032 - val_loss: 1.8286 - val_accuracy: 0.4287\n",
            "Epoch 23/30\n",
            "67/67 [==============================] - 9s 136ms/step - loss: 1.8345 - accuracy: 0.4248 - val_loss: 1.7839 - val_accuracy: 0.4493\n",
            "Epoch 24/30\n",
            "67/67 [==============================] - 9s 136ms/step - loss: 1.8011 - accuracy: 0.4301 - val_loss: 2.0199 - val_accuracy: 0.3760\n",
            "Epoch 25/30\n",
            "67/67 [==============================] - 9s 136ms/step - loss: 1.7823 - accuracy: 0.4386 - val_loss: 1.8941 - val_accuracy: 0.3993\n",
            "Epoch 26/30\n",
            "67/67 [==============================] - 9s 136ms/step - loss: 1.7648 - accuracy: 0.4367 - val_loss: 1.8402 - val_accuracy: 0.4240\n",
            "Epoch 27/30\n",
            "67/67 [==============================] - 9s 135ms/step - loss: 1.7484 - accuracy: 0.4501 - val_loss: 1.7673 - val_accuracy: 0.4480\n",
            "Epoch 28/30\n",
            "67/67 [==============================] - 10s 144ms/step - loss: 1.7134 - accuracy: 0.4609 - val_loss: 1.7119 - val_accuracy: 0.4600\n",
            "Epoch 29/30\n",
            "67/67 [==============================] - 9s 136ms/step - loss: 1.6826 - accuracy: 0.4634 - val_loss: 1.6668 - val_accuracy: 0.4827\n",
            "Epoch 30/30\n",
            "67/67 [==============================] - 9s 135ms/step - loss: 1.6683 - accuracy: 0.4742 - val_loss: 1.6858 - val_accuracy: 0.4753\n"
          ]
        }
      ],
      "source": [
        "AlexNet2 = AlexNet()\n",
        "\n",
        "AlexNet2.compile(optimizer='sgd',\n",
        "               loss=tf.keras.losses.SparseCategoricalCrossentropy(from_logits=True),\n",
        "               metrics=['accuracy'])\n",
        "\n",
        "AlexNet2_hist = AlexNet2.fit(x_train224, y_train,\n",
        "                         epochs=30, batch_size=128,\n",
        "                         validation_data=(x_val224, y_val))"
      ]
    },
    {
      "cell_type": "markdown",
      "metadata": {
        "id": "Lh0VPodRaarL"
      },
      "source": [
        "<b>VGG</b>"
      ]
    },
    {
      "cell_type": "markdown",
      "metadata": {
        "id": "kXkHmS2_bSvA"
      },
      "source": [
        "Με βάση την υλοποίηση που βλέπουμε στον σύνδεσμο που μας δίνεται θα έχουμε τα παρακάτω:"
      ]
    },
    {
      "cell_type": "code",
      "execution_count": 164,
      "metadata": {
        "id": "XV7fhnV1bUBF"
      },
      "outputs": [],
      "source": [
        "def vgg_block(num_convs, num_channels):\n",
        "    blk = tf.keras.models.Sequential()\n",
        "    for _ in range(num_convs):\n",
        "        blk.add(tf.keras.layers.Conv2D(num_channels,kernel_size=3,\n",
        "                                    padding='same',activation='relu'))\n",
        "    blk.add(tf.keras.layers.MaxPool2D(pool_size=2, strides=2))\n",
        "    return blk\n",
        "def vgg(conv_arch):\n",
        "    net = tf.keras.models.Sequential()\n",
        "    # The convulational part\n",
        "    for (num_convs, num_channels) in conv_arch:\n",
        "        net.add(vgg_block(num_convs, num_channels))\n",
        "    # The fully-connected part\n",
        "    net.add(tf.keras.models.Sequential([\n",
        "        tf.keras.layers.Flatten(),\n",
        "        tf.keras.layers.Dense(4096, activation='relu'),\n",
        "        tf.keras.layers.Dropout(0.5),\n",
        "        tf.keras.layers.Dense(4096, activation='relu'),\n",
        "        tf.keras.layers.Dropout(0.5),\n",
        "        tf.keras.layers.Dense(20)]))\n",
        "    return net\n",
        "\n",
        "conv_arch = ((1, 64), (1, 128), (2, 256), (2, 512), (2, 512))\n",
        "ratio = 4\n",
        "small_conv_arch = [(pair[0], pair[1] // ratio) for pair in conv_arch]"
      ]
    },
    {
      "cell_type": "markdown",
      "metadata": {
        "id": "HzeYF7lSsmkE"
      },
      "source": [
        "<p align=\"justify\">Αρχικά θα κάνουμε \"compile\" και \"fit\" με τις προδιαγραφές που δίνονται παρακάτω:</p>\n",
        "<ul>\n",
        "<li>Epochs : 30</li>\n",
        "<li>Batch Size : 32</li>\n",
        "<li>Optimizer: SGD</li>\n",
        "<li>Loss : SparseCategoricalCrossentropy</li>\n",
        "<ul>"
      ]
    },
    {
      "cell_type": "code",
      "execution_count": 165,
      "metadata": {
        "colab": {
          "base_uri": "https://localhost:8080/"
        },
        "id": "LCSbqLymrqIU",
        "outputId": "5abac0e3-82ba-4095-ba05-687808202ca3"
      },
      "outputs": [
        {
          "output_type": "stream",
          "name": "stdout",
          "text": [
            "Epoch 1/30\n",
            "266/266 [==============================] - 17s 57ms/step - loss: 2.9924 - accuracy: 0.0662 - val_loss: 2.9838 - val_accuracy: 0.0873\n",
            "Epoch 2/30\n",
            "266/266 [==============================] - 14s 53ms/step - loss: 2.8613 - accuracy: 0.1168 - val_loss: 2.5421 - val_accuracy: 0.2020\n",
            "Epoch 3/30\n",
            "266/266 [==============================] - 14s 53ms/step - loss: 2.5499 - accuracy: 0.1954 - val_loss: 2.3391 - val_accuracy: 0.2827\n",
            "Epoch 4/30\n",
            "266/266 [==============================] - 14s 53ms/step - loss: 2.3632 - accuracy: 0.2525 - val_loss: 2.2884 - val_accuracy: 0.2967\n",
            "Epoch 5/30\n",
            "266/266 [==============================] - 14s 53ms/step - loss: 2.2337 - accuracy: 0.2901 - val_loss: 2.1115 - val_accuracy: 0.3107\n",
            "Epoch 6/30\n",
            "266/266 [==============================] - 14s 54ms/step - loss: 2.1476 - accuracy: 0.3235 - val_loss: 2.0231 - val_accuracy: 0.3453\n",
            "Epoch 7/30\n",
            "266/266 [==============================] - 14s 53ms/step - loss: 2.0612 - accuracy: 0.3511 - val_loss: 1.9422 - val_accuracy: 0.3700\n",
            "Epoch 8/30\n",
            "266/266 [==============================] - 14s 53ms/step - loss: 1.9827 - accuracy: 0.3736 - val_loss: 1.9217 - val_accuracy: 0.3953\n",
            "Epoch 9/30\n",
            "266/266 [==============================] - 14s 53ms/step - loss: 1.9276 - accuracy: 0.3925 - val_loss: 1.8553 - val_accuracy: 0.4067\n",
            "Epoch 10/30\n",
            "266/266 [==============================] - 14s 53ms/step - loss: 1.8560 - accuracy: 0.4111 - val_loss: 1.8052 - val_accuracy: 0.4293\n",
            "Epoch 11/30\n",
            "266/266 [==============================] - 14s 53ms/step - loss: 1.7982 - accuracy: 0.4314 - val_loss: 1.7753 - val_accuracy: 0.4367\n",
            "Epoch 12/30\n",
            "266/266 [==============================] - 14s 54ms/step - loss: 1.7436 - accuracy: 0.4511 - val_loss: 1.7784 - val_accuracy: 0.4400\n",
            "Epoch 13/30\n",
            "266/266 [==============================] - 14s 53ms/step - loss: 1.6908 - accuracy: 0.4688 - val_loss: 1.7736 - val_accuracy: 0.4380\n",
            "Epoch 14/30\n",
            "266/266 [==============================] - 14s 53ms/step - loss: 1.6477 - accuracy: 0.4800 - val_loss: 1.7235 - val_accuracy: 0.4547\n",
            "Epoch 15/30\n",
            "266/266 [==============================] - 14s 53ms/step - loss: 1.5739 - accuracy: 0.5022 - val_loss: 1.7097 - val_accuracy: 0.4640\n",
            "Epoch 16/30\n",
            "266/266 [==============================] - 14s 53ms/step - loss: 1.5427 - accuracy: 0.5062 - val_loss: 1.6529 - val_accuracy: 0.4893\n",
            "Epoch 17/30\n",
            "266/266 [==============================] - 14s 53ms/step - loss: 1.4664 - accuracy: 0.5375 - val_loss: 1.6375 - val_accuracy: 0.4913\n",
            "Epoch 18/30\n",
            "266/266 [==============================] - 14s 53ms/step - loss: 1.4183 - accuracy: 0.5529 - val_loss: 1.6722 - val_accuracy: 0.4813\n",
            "Epoch 19/30\n",
            "266/266 [==============================] - 14s 53ms/step - loss: 1.3407 - accuracy: 0.5674 - val_loss: 1.5958 - val_accuracy: 0.4993\n",
            "Epoch 20/30\n",
            "266/266 [==============================] - 14s 53ms/step - loss: 1.2885 - accuracy: 0.5871 - val_loss: 1.5467 - val_accuracy: 0.5267\n",
            "Epoch 21/30\n",
            "266/266 [==============================] - 14s 53ms/step - loss: 1.2134 - accuracy: 0.6071 - val_loss: 1.6048 - val_accuracy: 0.5307\n",
            "Epoch 22/30\n",
            "266/266 [==============================] - 14s 53ms/step - loss: 1.1517 - accuracy: 0.6271 - val_loss: 1.5552 - val_accuracy: 0.5340\n",
            "Epoch 23/30\n",
            "266/266 [==============================] - 14s 53ms/step - loss: 1.0557 - accuracy: 0.6569 - val_loss: 1.6106 - val_accuracy: 0.5120\n",
            "Epoch 24/30\n",
            "266/266 [==============================] - 14s 53ms/step - loss: 0.9832 - accuracy: 0.6826 - val_loss: 1.5789 - val_accuracy: 0.5127\n",
            "Epoch 25/30\n",
            "266/266 [==============================] - 14s 53ms/step - loss: 0.8774 - accuracy: 0.7118 - val_loss: 1.6304 - val_accuracy: 0.5267\n",
            "Epoch 26/30\n",
            "266/266 [==============================] - 14s 53ms/step - loss: 0.7855 - accuracy: 0.7393 - val_loss: 1.6457 - val_accuracy: 0.5320\n",
            "Epoch 27/30\n",
            "266/266 [==============================] - 14s 53ms/step - loss: 0.7163 - accuracy: 0.7632 - val_loss: 1.6949 - val_accuracy: 0.5133\n",
            "Epoch 28/30\n",
            "266/266 [==============================] - 14s 53ms/step - loss: 0.6328 - accuracy: 0.7882 - val_loss: 1.7116 - val_accuracy: 0.5267\n",
            "Epoch 29/30\n",
            "266/266 [==============================] - 14s 53ms/step - loss: 0.5601 - accuracy: 0.8139 - val_loss: 1.7109 - val_accuracy: 0.5413\n",
            "Epoch 30/30\n",
            "266/266 [==============================] - 15s 55ms/step - loss: 0.4856 - accuracy: 0.8406 - val_loss: 1.9356 - val_accuracy: 0.5307\n"
          ]
        }
      ],
      "source": [
        "VGG1=vgg(small_conv_arch)\n",
        "VGG1.compile(optimizer='sgd',\n",
        "               loss=tf.keras.losses.SparseCategoricalCrossentropy(from_logits=True),\n",
        "               metrics=['accuracy'])\n",
        "\n",
        "VGG1_hist = VGG1.fit(x_train224, y_train,\n",
        "                         epochs=30, batch_size=32,\n",
        "                         validation_data=(x_val224, y_val))"
      ]
    },
    {
      "cell_type": "markdown",
      "metadata": {
        "id": "SU-V9WQXsnzm"
      },
      "source": [
        "<p align=\"justify\">Στη συνέχεια θα κάνουμε \"compile\" και \"fit\" με τις προδιαγραφές που δίνονται παρακάτω:</p>\n",
        "<ul>\n",
        "<li>Epochs : 30</li>\n",
        "<li>Batch Size : 256</li>\n",
        "<li>Optimizer : SGD</li>\n",
        "<li>Loss : SparseCategoricalCrossentropy</li>\n",
        "<ul>"
      ]
    },
    {
      "cell_type": "code",
      "execution_count": 166,
      "metadata": {
        "id": "iiq56mJjtIa9",
        "colab": {
          "base_uri": "https://localhost:8080/"
        },
        "outputId": "071800f1-c04d-4b73-9ce4-73f280108763"
      },
      "outputs": [
        {
          "output_type": "stream",
          "name": "stdout",
          "text": [
            "Epoch 1/30\n",
            "34/34 [==============================] - 19s 457ms/step - loss: 0.2773 - accuracy: 0.9087 - val_loss: 1.9031 - val_accuracy: 0.5633\n",
            "Epoch 2/30\n",
            "34/34 [==============================] - 13s 395ms/step - loss: 0.2161 - accuracy: 0.9293 - val_loss: 2.0247 - val_accuracy: 0.5627\n",
            "Epoch 3/30\n",
            "34/34 [==============================] - 13s 396ms/step - loss: 0.1890 - accuracy: 0.9340 - val_loss: 2.0096 - val_accuracy: 0.5647\n",
            "Epoch 4/30\n",
            "34/34 [==============================] - 13s 390ms/step - loss: 0.1642 - accuracy: 0.9446 - val_loss: 2.0161 - val_accuracy: 0.5640\n",
            "Epoch 5/30\n",
            "34/34 [==============================] - 13s 385ms/step - loss: 0.1529 - accuracy: 0.9485 - val_loss: 2.1088 - val_accuracy: 0.5667\n",
            "Epoch 6/30\n",
            "34/34 [==============================] - 13s 386ms/step - loss: 0.1572 - accuracy: 0.9475 - val_loss: 2.0439 - val_accuracy: 0.5640\n",
            "Epoch 7/30\n",
            "34/34 [==============================] - 13s 386ms/step - loss: 0.1388 - accuracy: 0.9548 - val_loss: 2.1322 - val_accuracy: 0.5680\n",
            "Epoch 8/30\n",
            "34/34 [==============================] - 13s 388ms/step - loss: 0.1304 - accuracy: 0.9574 - val_loss: 2.2264 - val_accuracy: 0.5640\n",
            "Epoch 9/30\n",
            "34/34 [==============================] - 13s 390ms/step - loss: 0.1206 - accuracy: 0.9593 - val_loss: 2.2063 - val_accuracy: 0.5633\n",
            "Epoch 10/30\n",
            "34/34 [==============================] - 13s 391ms/step - loss: 0.1139 - accuracy: 0.9607 - val_loss: 2.2621 - val_accuracy: 0.5580\n",
            "Epoch 11/30\n",
            "34/34 [==============================] - 13s 390ms/step - loss: 0.1047 - accuracy: 0.9658 - val_loss: 2.3388 - val_accuracy: 0.5733\n",
            "Epoch 12/30\n",
            "34/34 [==============================] - 13s 389ms/step - loss: 0.0942 - accuracy: 0.9689 - val_loss: 2.4001 - val_accuracy: 0.5680\n",
            "Epoch 13/30\n",
            "34/34 [==============================] - 13s 387ms/step - loss: 0.0941 - accuracy: 0.9694 - val_loss: 2.4502 - val_accuracy: 0.5553\n",
            "Epoch 14/30\n",
            "34/34 [==============================] - 13s 388ms/step - loss: 0.0889 - accuracy: 0.9691 - val_loss: 2.4058 - val_accuracy: 0.5593\n",
            "Epoch 15/30\n",
            "34/34 [==============================] - 13s 388ms/step - loss: 0.0772 - accuracy: 0.9721 - val_loss: 2.5268 - val_accuracy: 0.5667\n",
            "Epoch 16/30\n",
            "34/34 [==============================] - 13s 387ms/step - loss: 0.0850 - accuracy: 0.9724 - val_loss: 2.3569 - val_accuracy: 0.5740\n",
            "Epoch 17/30\n",
            "34/34 [==============================] - 13s 387ms/step - loss: 0.0781 - accuracy: 0.9731 - val_loss: 2.4158 - val_accuracy: 0.5733\n",
            "Epoch 18/30\n",
            "34/34 [==============================] - 13s 387ms/step - loss: 0.0842 - accuracy: 0.9720 - val_loss: 2.4304 - val_accuracy: 0.5667\n",
            "Epoch 19/30\n",
            "34/34 [==============================] - 13s 387ms/step - loss: 0.0710 - accuracy: 0.9775 - val_loss: 2.4636 - val_accuracy: 0.5733\n",
            "Epoch 20/30\n",
            "34/34 [==============================] - 13s 387ms/step - loss: 0.0675 - accuracy: 0.9766 - val_loss: 2.5106 - val_accuracy: 0.5587\n",
            "Epoch 21/30\n",
            "34/34 [==============================] - 13s 387ms/step - loss: 0.0706 - accuracy: 0.9748 - val_loss: 2.4711 - val_accuracy: 0.5727\n",
            "Epoch 22/30\n",
            "34/34 [==============================] - 13s 387ms/step - loss: 0.0662 - accuracy: 0.9780 - val_loss: 2.4860 - val_accuracy: 0.5707\n",
            "Epoch 23/30\n",
            "34/34 [==============================] - 13s 387ms/step - loss: 0.0587 - accuracy: 0.9801 - val_loss: 2.6789 - val_accuracy: 0.5560\n",
            "Epoch 24/30\n",
            "34/34 [==============================] - 13s 387ms/step - loss: 0.0625 - accuracy: 0.9806 - val_loss: 2.5760 - val_accuracy: 0.5700\n",
            "Epoch 25/30\n",
            "34/34 [==============================] - 13s 389ms/step - loss: 0.0563 - accuracy: 0.9818 - val_loss: 2.5892 - val_accuracy: 0.5640\n",
            "Epoch 26/30\n",
            "34/34 [==============================] - 13s 389ms/step - loss: 0.0530 - accuracy: 0.9824 - val_loss: 2.6571 - val_accuracy: 0.5627\n",
            "Epoch 27/30\n",
            "34/34 [==============================] - 13s 388ms/step - loss: 0.0609 - accuracy: 0.9800 - val_loss: 2.5171 - val_accuracy: 0.5727\n",
            "Epoch 28/30\n",
            "34/34 [==============================] - 13s 387ms/step - loss: 0.0579 - accuracy: 0.9796 - val_loss: 2.6128 - val_accuracy: 0.5640\n",
            "Epoch 29/30\n",
            "34/34 [==============================] - 13s 389ms/step - loss: 0.0543 - accuracy: 0.9818 - val_loss: 2.6587 - val_accuracy: 0.5767\n",
            "Epoch 30/30\n",
            "34/34 [==============================] - 13s 388ms/step - loss: 0.0553 - accuracy: 0.9813 - val_loss: 2.6564 - val_accuracy: 0.5640\n"
          ]
        }
      ],
      "source": [
        "VGG2=vgg(small_conv_arch)\n",
        "VGG2.compile(optimizer='sgd',\n",
        "               loss=tf.keras.losses.SparseCategoricalCrossentropy(from_logits=True),\n",
        "               metrics=['accuracy'])\n",
        "\n",
        "VGG2_hist = VGG1.fit(x_train224, y_train,\n",
        "                         epochs=30, batch_size=256,\n",
        "                         validation_data=(x_val224, y_val))"
      ]
    },
    {
      "cell_type": "markdown",
      "metadata": {
        "id": "STvoMJ1BzvHO"
      },
      "source": [
        "<b>MyCNN</b>"
      ]
    },
    {
      "cell_type": "code",
      "execution_count": 167,
      "metadata": {
        "id": "I4F7z4Jx0oiJ"
      },
      "outputs": [],
      "source": [
        "def MyCNN():\n",
        "    return tf.keras.models.Sequential([\n",
        "        tf.keras.layers.Conv2D(filters=32, kernel_size=3,activation='relu'),\n",
        "        tf.keras.layers.MaxPool2D(pool_size=2),\n",
        "\n",
        "        tf.keras.layers.Conv2D(filters=64, kernel_size=5, padding='same',\n",
        "                               activation='relu'),\n",
        "        tf.keras.layers.MaxPool2D(pool_size=2),\n",
        "\n",
        "        tf.keras.layers.Conv2D(filters=128, kernel_size=11, padding='same',\n",
        "                               activation='relu'),\n",
        "        tf.keras.layers.MaxPool2D(pool_size=2),  \n",
        "\n",
        "        tf.keras.layers.Conv2D(filters=256, kernel_size=3, padding='same',\n",
        "                               activation='relu'),\n",
        "        \n",
        "        tf.keras.layers.Flatten(),\n",
        "        tf.keras.layers.Dense(128, activation='relu'),\n",
        "        tf.keras.layers.Dense(128, activation='relu'),\n",
        "        tf.keras.layers.Dense(20)\n",
        "    ])"
      ]
    },
    {
      "cell_type": "markdown",
      "metadata": {
        "id": "Qe6yKoQ92bzl"
      },
      "source": [
        "<p align=\"justify\">Αρχικά θα κάνουμε \"compile\" και \"fit\" με τις προδιαγραφές που δίνονται παρακάτω:</p>\n",
        "<ul>\n",
        "<li>Epochs : 60</li>\n",
        "<li>Batch Size : 128</li>\n",
        "<li>Optimizer: SGD</li>\n",
        "<li>Loss : SparseCategoricalCrossentropy</li>\n",
        "<ul>"
      ]
    },
    {
      "cell_type": "code",
      "execution_count": 168,
      "metadata": {
        "id": "vaQHdHGQ2TOo",
        "colab": {
          "base_uri": "https://localhost:8080/"
        },
        "outputId": "9b361ff5-9cb5-4d20-e353-fa5d43d1e2b6"
      },
      "outputs": [
        {
          "output_type": "stream",
          "name": "stdout",
          "text": [
            "Epoch 1/60\n",
            "67/67 [==============================] - 2s 18ms/step - loss: 2.9935 - accuracy: 0.0696 - val_loss: 2.9911 - val_accuracy: 0.1027\n",
            "Epoch 2/60\n",
            "67/67 [==============================] - 1s 15ms/step - loss: 2.9884 - accuracy: 0.1009 - val_loss: 2.9854 - val_accuracy: 0.1147\n",
            "Epoch 3/60\n",
            "67/67 [==============================] - 1s 16ms/step - loss: 2.9816 - accuracy: 0.1128 - val_loss: 2.9771 - val_accuracy: 0.1207\n",
            "Epoch 4/60\n",
            "67/67 [==============================] - 1s 15ms/step - loss: 2.9706 - accuracy: 0.1151 - val_loss: 2.9628 - val_accuracy: 0.1207\n",
            "Epoch 5/60\n",
            "67/67 [==============================] - 1s 16ms/step - loss: 2.9501 - accuracy: 0.1204 - val_loss: 2.9331 - val_accuracy: 0.1307\n",
            "Epoch 6/60\n",
            "67/67 [==============================] - 1s 15ms/step - loss: 2.9061 - accuracy: 0.1216 - val_loss: 2.8704 - val_accuracy: 0.1253\n",
            "Epoch 7/60\n",
            "67/67 [==============================] - 1s 15ms/step - loss: 2.8201 - accuracy: 0.1293 - val_loss: 2.8629 - val_accuracy: 0.1067\n",
            "Epoch 8/60\n",
            "67/67 [==============================] - 1s 15ms/step - loss: 2.7184 - accuracy: 0.1598 - val_loss: 2.6447 - val_accuracy: 0.1893\n",
            "Epoch 9/60\n",
            "67/67 [==============================] - 1s 16ms/step - loss: 2.5938 - accuracy: 0.1881 - val_loss: 2.5884 - val_accuracy: 0.1953\n",
            "Epoch 10/60\n",
            "67/67 [==============================] - 1s 15ms/step - loss: 2.4803 - accuracy: 0.2188 - val_loss: 2.4163 - val_accuracy: 0.2300\n",
            "Epoch 11/60\n",
            "67/67 [==============================] - 1s 15ms/step - loss: 2.4105 - accuracy: 0.2395 - val_loss: 2.3554 - val_accuracy: 0.2487\n",
            "Epoch 12/60\n",
            "67/67 [==============================] - 1s 16ms/step - loss: 2.3565 - accuracy: 0.2569 - val_loss: 2.3670 - val_accuracy: 0.2320\n",
            "Epoch 13/60\n",
            "67/67 [==============================] - 1s 16ms/step - loss: 2.3108 - accuracy: 0.2658 - val_loss: 2.3790 - val_accuracy: 0.2440\n",
            "Epoch 14/60\n",
            "67/67 [==============================] - 1s 16ms/step - loss: 2.2591 - accuracy: 0.2846 - val_loss: 2.3509 - val_accuracy: 0.2373\n",
            "Epoch 15/60\n",
            "67/67 [==============================] - 1s 16ms/step - loss: 2.2385 - accuracy: 0.2925 - val_loss: 2.2375 - val_accuracy: 0.2860\n",
            "Epoch 16/60\n",
            "67/67 [==============================] - 1s 15ms/step - loss: 2.1954 - accuracy: 0.3066 - val_loss: 2.1759 - val_accuracy: 0.3127\n",
            "Epoch 17/60\n",
            "67/67 [==============================] - 1s 16ms/step - loss: 2.1617 - accuracy: 0.3167 - val_loss: 2.2045 - val_accuracy: 0.2893\n",
            "Epoch 18/60\n",
            "67/67 [==============================] - 1s 16ms/step - loss: 2.1203 - accuracy: 0.3319 - val_loss: 2.1562 - val_accuracy: 0.3107\n",
            "Epoch 19/60\n",
            "67/67 [==============================] - 1s 16ms/step - loss: 2.0876 - accuracy: 0.3373 - val_loss: 2.2068 - val_accuracy: 0.2900\n",
            "Epoch 20/60\n",
            "67/67 [==============================] - 1s 16ms/step - loss: 2.0763 - accuracy: 0.3468 - val_loss: 2.0531 - val_accuracy: 0.3527\n",
            "Epoch 21/60\n",
            "67/67 [==============================] - 1s 15ms/step - loss: 2.0526 - accuracy: 0.3552 - val_loss: 2.0829 - val_accuracy: 0.3273\n",
            "Epoch 22/60\n",
            "67/67 [==============================] - 1s 15ms/step - loss: 2.0331 - accuracy: 0.3581 - val_loss: 2.1254 - val_accuracy: 0.3180\n",
            "Epoch 23/60\n",
            "67/67 [==============================] - 1s 15ms/step - loss: 1.9992 - accuracy: 0.3698 - val_loss: 2.0471 - val_accuracy: 0.3400\n",
            "Epoch 24/60\n",
            "67/67 [==============================] - 1s 15ms/step - loss: 1.9844 - accuracy: 0.3752 - val_loss: 2.1579 - val_accuracy: 0.2900\n",
            "Epoch 25/60\n",
            "67/67 [==============================] - 1s 15ms/step - loss: 1.9551 - accuracy: 0.3822 - val_loss: 2.1037 - val_accuracy: 0.3280\n",
            "Epoch 26/60\n",
            "67/67 [==============================] - 1s 15ms/step - loss: 1.9530 - accuracy: 0.3853 - val_loss: 1.9939 - val_accuracy: 0.3527\n",
            "Epoch 27/60\n",
            "67/67 [==============================] - 1s 15ms/step - loss: 1.9234 - accuracy: 0.3986 - val_loss: 2.0369 - val_accuracy: 0.3460\n",
            "Epoch 28/60\n",
            "67/67 [==============================] - 1s 15ms/step - loss: 1.9131 - accuracy: 0.3953 - val_loss: 1.9717 - val_accuracy: 0.3760\n",
            "Epoch 29/60\n",
            "67/67 [==============================] - 1s 16ms/step - loss: 1.8899 - accuracy: 0.4020 - val_loss: 1.9552 - val_accuracy: 0.3747\n",
            "Epoch 30/60\n",
            "67/67 [==============================] - 1s 16ms/step - loss: 1.8701 - accuracy: 0.4100 - val_loss: 1.9759 - val_accuracy: 0.3667\n",
            "Epoch 31/60\n",
            "67/67 [==============================] - 1s 15ms/step - loss: 1.8559 - accuracy: 0.4198 - val_loss: 2.0003 - val_accuracy: 0.3520\n",
            "Epoch 32/60\n",
            "67/67 [==============================] - 1s 15ms/step - loss: 1.8398 - accuracy: 0.4186 - val_loss: 1.9767 - val_accuracy: 0.3493\n",
            "Epoch 33/60\n",
            "67/67 [==============================] - 1s 15ms/step - loss: 1.8213 - accuracy: 0.4288 - val_loss: 2.0930 - val_accuracy: 0.3467\n",
            "Epoch 34/60\n",
            "67/67 [==============================] - 1s 16ms/step - loss: 1.8106 - accuracy: 0.4302 - val_loss: 1.9474 - val_accuracy: 0.3807\n",
            "Epoch 35/60\n",
            "67/67 [==============================] - 1s 15ms/step - loss: 1.7904 - accuracy: 0.4385 - val_loss: 1.9940 - val_accuracy: 0.3513\n",
            "Epoch 36/60\n",
            "67/67 [==============================] - 1s 15ms/step - loss: 1.7885 - accuracy: 0.4298 - val_loss: 1.8884 - val_accuracy: 0.3853\n",
            "Epoch 37/60\n",
            "67/67 [==============================] - 1s 16ms/step - loss: 1.7611 - accuracy: 0.4446 - val_loss: 1.9239 - val_accuracy: 0.4013\n",
            "Epoch 38/60\n",
            "67/67 [==============================] - 1s 15ms/step - loss: 1.7409 - accuracy: 0.4528 - val_loss: 1.8937 - val_accuracy: 0.4067\n",
            "Epoch 39/60\n",
            "67/67 [==============================] - 1s 15ms/step - loss: 1.7142 - accuracy: 0.4541 - val_loss: 2.0660 - val_accuracy: 0.3393\n",
            "Epoch 40/60\n",
            "67/67 [==============================] - 1s 16ms/step - loss: 1.7004 - accuracy: 0.4609 - val_loss: 1.9000 - val_accuracy: 0.3893\n",
            "Epoch 41/60\n",
            "67/67 [==============================] - 1s 15ms/step - loss: 1.6969 - accuracy: 0.4635 - val_loss: 1.8706 - val_accuracy: 0.4087\n",
            "Epoch 42/60\n",
            "67/67 [==============================] - 1s 15ms/step - loss: 1.6794 - accuracy: 0.4704 - val_loss: 1.8214 - val_accuracy: 0.4127\n",
            "Epoch 43/60\n",
            "67/67 [==============================] - 1s 15ms/step - loss: 1.6552 - accuracy: 0.4802 - val_loss: 1.8579 - val_accuracy: 0.4033\n",
            "Epoch 44/60\n",
            "67/67 [==============================] - 1s 15ms/step - loss: 1.6453 - accuracy: 0.4792 - val_loss: 1.8757 - val_accuracy: 0.4087\n",
            "Epoch 45/60\n",
            "67/67 [==============================] - 1s 16ms/step - loss: 1.6370 - accuracy: 0.4827 - val_loss: 1.8866 - val_accuracy: 0.4007\n",
            "Epoch 46/60\n",
            "67/67 [==============================] - 1s 15ms/step - loss: 1.6232 - accuracy: 0.4895 - val_loss: 1.8234 - val_accuracy: 0.4107\n",
            "Epoch 47/60\n",
            "67/67 [==============================] - 1s 15ms/step - loss: 1.5830 - accuracy: 0.4938 - val_loss: 1.8474 - val_accuracy: 0.4227\n",
            "Epoch 48/60\n",
            "67/67 [==============================] - 1s 15ms/step - loss: 1.5732 - accuracy: 0.5022 - val_loss: 1.7545 - val_accuracy: 0.4393\n",
            "Epoch 49/60\n",
            "67/67 [==============================] - 1s 15ms/step - loss: 1.5575 - accuracy: 0.5044 - val_loss: 1.8690 - val_accuracy: 0.3940\n",
            "Epoch 50/60\n",
            "67/67 [==============================] - 1s 15ms/step - loss: 1.5456 - accuracy: 0.5039 - val_loss: 1.7685 - val_accuracy: 0.4420\n",
            "Epoch 51/60\n",
            "67/67 [==============================] - 1s 16ms/step - loss: 1.5291 - accuracy: 0.5149 - val_loss: 2.0030 - val_accuracy: 0.3687\n",
            "Epoch 52/60\n",
            "67/67 [==============================] - 1s 15ms/step - loss: 1.5099 - accuracy: 0.5206 - val_loss: 1.9174 - val_accuracy: 0.4200\n",
            "Epoch 53/60\n",
            "67/67 [==============================] - 1s 15ms/step - loss: 1.4938 - accuracy: 0.5180 - val_loss: 1.7046 - val_accuracy: 0.4627\n",
            "Epoch 54/60\n",
            "67/67 [==============================] - 1s 15ms/step - loss: 1.4777 - accuracy: 0.5296 - val_loss: 1.7521 - val_accuracy: 0.4533\n",
            "Epoch 55/60\n",
            "67/67 [==============================] - 1s 16ms/step - loss: 1.4481 - accuracy: 0.5362 - val_loss: 1.7559 - val_accuracy: 0.4540\n",
            "Epoch 56/60\n",
            "67/67 [==============================] - 1s 15ms/step - loss: 1.4513 - accuracy: 0.5385 - val_loss: 1.7214 - val_accuracy: 0.4613\n",
            "Epoch 57/60\n",
            "67/67 [==============================] - 1s 15ms/step - loss: 1.4309 - accuracy: 0.5425 - val_loss: 1.7359 - val_accuracy: 0.4407\n",
            "Epoch 58/60\n",
            "67/67 [==============================] - 1s 15ms/step - loss: 1.4098 - accuracy: 0.5501 - val_loss: 1.8141 - val_accuracy: 0.4247\n",
            "Epoch 59/60\n",
            "67/67 [==============================] - 1s 15ms/step - loss: 1.3857 - accuracy: 0.5599 - val_loss: 1.7536 - val_accuracy: 0.4320\n",
            "Epoch 60/60\n",
            "67/67 [==============================] - 1s 15ms/step - loss: 1.3657 - accuracy: 0.5644 - val_loss: 1.8619 - val_accuracy: 0.4267\n"
          ]
        }
      ],
      "source": [
        "MyCNN1 = MyCNN()\n",
        "\n",
        "MyCNN1.compile(optimizer='sgd',\n",
        "               loss=tf.keras.losses.SparseCategoricalCrossentropy(from_logits=True),\n",
        "               metrics=['accuracy'])\n",
        "\n",
        "MyCNN1_hist = MyCNN1.fit(x_train, y_train,\n",
        "                         epochs=60, batch_size=128,\n",
        "                         validation_data=(x_val, y_val))"
      ]
    },
    {
      "cell_type": "markdown",
      "metadata": {
        "id": "lm6U6G4C2gsz"
      },
      "source": [
        "<p align=\"justify\">Στη συνέχεια θα κάνουμε \"compile\" και \"fit\" με τις προδιαγραφές που δίνονται παρακάτω:</p>\n",
        "<ul>\n",
        "<li>Epochs : 60</li>\n",
        "<li>Batch Size : 128</li>\n",
        "<li>Optimizer : adamax</li>\n",
        "<li>Loss : SparseCategoricalCrossentropy</li>\n",
        "<ul>"
      ]
    },
    {
      "cell_type": "code",
      "execution_count": 169,
      "metadata": {
        "id": "MMVpWUoL2S1L",
        "colab": {
          "base_uri": "https://localhost:8080/"
        },
        "outputId": "6d99f95a-5fd2-4ae4-8d7c-95e8905ad77f"
      },
      "outputs": [
        {
          "output_type": "stream",
          "name": "stdout",
          "text": [
            "Epoch 1/60\n",
            "67/67 [==============================] - 2s 20ms/step - loss: 2.7753 - accuracy: 0.1361 - val_loss: 2.3666 - val_accuracy: 0.2547\n",
            "Epoch 2/60\n",
            "67/67 [==============================] - 1s 15ms/step - loss: 2.2469 - accuracy: 0.2829 - val_loss: 2.1719 - val_accuracy: 0.2993\n",
            "Epoch 3/60\n",
            "67/67 [==============================] - 1s 15ms/step - loss: 2.0470 - accuracy: 0.3439 - val_loss: 2.0474 - val_accuracy: 0.3407\n",
            "Epoch 4/60\n",
            "67/67 [==============================] - 1s 15ms/step - loss: 1.9004 - accuracy: 0.3973 - val_loss: 1.8480 - val_accuracy: 0.4260\n",
            "Epoch 5/60\n",
            "67/67 [==============================] - 1s 16ms/step - loss: 1.7723 - accuracy: 0.4425 - val_loss: 1.7551 - val_accuracy: 0.4453\n",
            "Epoch 6/60\n",
            "67/67 [==============================] - 1s 16ms/step - loss: 1.6757 - accuracy: 0.4705 - val_loss: 1.8039 - val_accuracy: 0.4380\n",
            "Epoch 7/60\n",
            "67/67 [==============================] - 1s 16ms/step - loss: 1.6294 - accuracy: 0.4832 - val_loss: 1.6417 - val_accuracy: 0.4800\n",
            "Epoch 8/60\n",
            "67/67 [==============================] - 1s 17ms/step - loss: 1.5368 - accuracy: 0.5162 - val_loss: 1.5935 - val_accuracy: 0.4873\n",
            "Epoch 9/60\n",
            "67/67 [==============================] - 1s 16ms/step - loss: 1.4735 - accuracy: 0.5319 - val_loss: 1.6206 - val_accuracy: 0.5000\n",
            "Epoch 10/60\n",
            "67/67 [==============================] - 1s 15ms/step - loss: 1.4156 - accuracy: 0.5475 - val_loss: 1.6088 - val_accuracy: 0.5047\n",
            "Epoch 11/60\n",
            "67/67 [==============================] - 1s 15ms/step - loss: 1.3545 - accuracy: 0.5699 - val_loss: 1.5283 - val_accuracy: 0.5100\n",
            "Epoch 12/60\n",
            "67/67 [==============================] - 1s 15ms/step - loss: 1.2883 - accuracy: 0.5920 - val_loss: 1.4576 - val_accuracy: 0.5400\n",
            "Epoch 13/60\n",
            "67/67 [==============================] - 1s 15ms/step - loss: 1.2532 - accuracy: 0.6015 - val_loss: 1.4626 - val_accuracy: 0.5420\n",
            "Epoch 14/60\n",
            "67/67 [==============================] - 1s 16ms/step - loss: 1.2013 - accuracy: 0.6180 - val_loss: 1.4371 - val_accuracy: 0.5513\n",
            "Epoch 15/60\n",
            "67/67 [==============================] - 1s 16ms/step - loss: 1.1547 - accuracy: 0.6347 - val_loss: 1.4736 - val_accuracy: 0.5313\n",
            "Epoch 16/60\n",
            "67/67 [==============================] - 1s 16ms/step - loss: 1.0837 - accuracy: 0.6574 - val_loss: 1.3736 - val_accuracy: 0.5767\n",
            "Epoch 17/60\n",
            "67/67 [==============================] - 1s 15ms/step - loss: 1.0455 - accuracy: 0.6739 - val_loss: 1.3814 - val_accuracy: 0.5813\n",
            "Epoch 18/60\n",
            "67/67 [==============================] - 1s 15ms/step - loss: 0.9819 - accuracy: 0.6881 - val_loss: 1.3688 - val_accuracy: 0.5700\n",
            "Epoch 19/60\n",
            "67/67 [==============================] - 1s 15ms/step - loss: 0.9275 - accuracy: 0.7026 - val_loss: 1.3650 - val_accuracy: 0.5833\n",
            "Epoch 20/60\n",
            "67/67 [==============================] - 1s 16ms/step - loss: 0.8642 - accuracy: 0.7246 - val_loss: 1.4055 - val_accuracy: 0.5887\n",
            "Epoch 21/60\n",
            "67/67 [==============================] - 1s 16ms/step - loss: 0.8195 - accuracy: 0.7309 - val_loss: 1.3888 - val_accuracy: 0.5960\n",
            "Epoch 22/60\n",
            "67/67 [==============================] - 1s 16ms/step - loss: 0.7629 - accuracy: 0.7572 - val_loss: 1.4816 - val_accuracy: 0.5613\n",
            "Epoch 23/60\n",
            "67/67 [==============================] - 1s 16ms/step - loss: 0.7183 - accuracy: 0.7674 - val_loss: 1.4026 - val_accuracy: 0.5800\n",
            "Epoch 24/60\n",
            "67/67 [==============================] - 1s 17ms/step - loss: 0.6790 - accuracy: 0.7787 - val_loss: 1.4810 - val_accuracy: 0.5773\n",
            "Epoch 25/60\n",
            "67/67 [==============================] - 1s 17ms/step - loss: 0.5898 - accuracy: 0.8118 - val_loss: 1.4753 - val_accuracy: 0.5887\n",
            "Epoch 26/60\n",
            "67/67 [==============================] - 1s 16ms/step - loss: 0.5412 - accuracy: 0.8272 - val_loss: 1.5060 - val_accuracy: 0.5807\n",
            "Epoch 27/60\n",
            "67/67 [==============================] - 1s 16ms/step - loss: 0.4979 - accuracy: 0.8415 - val_loss: 1.5433 - val_accuracy: 0.5693\n",
            "Epoch 28/60\n",
            "67/67 [==============================] - 1s 16ms/step - loss: 0.4323 - accuracy: 0.8652 - val_loss: 1.5335 - val_accuracy: 0.5967\n",
            "Epoch 29/60\n",
            "67/67 [==============================] - 1s 16ms/step - loss: 0.3797 - accuracy: 0.8829 - val_loss: 1.5456 - val_accuracy: 0.5907\n",
            "Epoch 30/60\n",
            "67/67 [==============================] - 1s 17ms/step - loss: 0.3459 - accuracy: 0.8908 - val_loss: 1.5518 - val_accuracy: 0.5773\n",
            "Epoch 31/60\n",
            "67/67 [==============================] - 1s 16ms/step - loss: 0.3132 - accuracy: 0.9067 - val_loss: 1.6031 - val_accuracy: 0.6020\n",
            "Epoch 32/60\n",
            "67/67 [==============================] - 1s 16ms/step - loss: 0.2610 - accuracy: 0.9208 - val_loss: 1.7460 - val_accuracy: 0.5807\n",
            "Epoch 33/60\n",
            "67/67 [==============================] - 1s 17ms/step - loss: 0.2204 - accuracy: 0.9364 - val_loss: 1.6682 - val_accuracy: 0.6120\n",
            "Epoch 34/60\n",
            "67/67 [==============================] - 1s 17ms/step - loss: 0.2189 - accuracy: 0.9328 - val_loss: 1.6927 - val_accuracy: 0.5980\n",
            "Epoch 35/60\n",
            "67/67 [==============================] - 1s 15ms/step - loss: 0.1673 - accuracy: 0.9548 - val_loss: 1.7851 - val_accuracy: 0.6047\n",
            "Epoch 36/60\n",
            "67/67 [==============================] - 1s 16ms/step - loss: 0.1203 - accuracy: 0.9701 - val_loss: 1.9072 - val_accuracy: 0.6073\n",
            "Epoch 37/60\n",
            "67/67 [==============================] - 1s 16ms/step - loss: 0.1090 - accuracy: 0.9736 - val_loss: 1.9063 - val_accuracy: 0.5947\n",
            "Epoch 38/60\n",
            "67/67 [==============================] - 1s 17ms/step - loss: 0.1550 - accuracy: 0.9538 - val_loss: 1.9140 - val_accuracy: 0.5833\n",
            "Epoch 39/60\n",
            "67/67 [==============================] - 1s 16ms/step - loss: 0.0739 - accuracy: 0.9856 - val_loss: 1.9811 - val_accuracy: 0.6147\n",
            "Epoch 40/60\n",
            "67/67 [==============================] - 1s 16ms/step - loss: 0.0519 - accuracy: 0.9925 - val_loss: 2.0625 - val_accuracy: 0.6193\n",
            "Epoch 41/60\n",
            "67/67 [==============================] - 1s 17ms/step - loss: 0.0508 - accuracy: 0.9902 - val_loss: 2.0230 - val_accuracy: 0.6133\n",
            "Epoch 42/60\n",
            "67/67 [==============================] - 1s 15ms/step - loss: 0.0502 - accuracy: 0.9905 - val_loss: 2.1402 - val_accuracy: 0.5993\n",
            "Epoch 43/60\n",
            "67/67 [==============================] - 1s 16ms/step - loss: 0.0490 - accuracy: 0.9893 - val_loss: 2.1489 - val_accuracy: 0.6073\n",
            "Epoch 44/60\n",
            "67/67 [==============================] - 1s 16ms/step - loss: 0.0399 - accuracy: 0.9945 - val_loss: 2.1907 - val_accuracy: 0.6067\n",
            "Epoch 45/60\n",
            "67/67 [==============================] - 1s 16ms/step - loss: 0.0264 - accuracy: 0.9969 - val_loss: 2.3361 - val_accuracy: 0.6147\n",
            "Epoch 46/60\n",
            "67/67 [==============================] - 1s 15ms/step - loss: 0.0160 - accuracy: 0.9982 - val_loss: 2.4312 - val_accuracy: 0.6113\n",
            "Epoch 47/60\n",
            "67/67 [==============================] - 1s 17ms/step - loss: 0.0289 - accuracy: 0.9928 - val_loss: 2.3093 - val_accuracy: 0.6067\n",
            "Epoch 48/60\n",
            "67/67 [==============================] - 1s 17ms/step - loss: 0.0729 - accuracy: 0.9795 - val_loss: 2.3508 - val_accuracy: 0.6013\n",
            "Epoch 49/60\n",
            "67/67 [==============================] - 1s 17ms/step - loss: 0.0319 - accuracy: 0.9940 - val_loss: 2.4208 - val_accuracy: 0.5967\n",
            "Epoch 50/60\n",
            "67/67 [==============================] - 1s 15ms/step - loss: 0.0305 - accuracy: 0.9944 - val_loss: 2.4932 - val_accuracy: 0.6160\n",
            "Epoch 51/60\n",
            "67/67 [==============================] - 1s 16ms/step - loss: 0.0135 - accuracy: 0.9982 - val_loss: 2.5004 - val_accuracy: 0.6100\n",
            "Epoch 52/60\n",
            "67/67 [==============================] - 1s 15ms/step - loss: 0.0301 - accuracy: 0.9931 - val_loss: 2.4902 - val_accuracy: 0.5873\n",
            "Epoch 53/60\n",
            "67/67 [==============================] - 1s 17ms/step - loss: 0.0325 - accuracy: 0.9931 - val_loss: 2.5075 - val_accuracy: 0.6080\n",
            "Epoch 54/60\n",
            "67/67 [==============================] - 1s 15ms/step - loss: 0.0162 - accuracy: 0.9969 - val_loss: 2.6407 - val_accuracy: 0.5960\n",
            "Epoch 55/60\n",
            "67/67 [==============================] - 1s 15ms/step - loss: 0.0504 - accuracy: 0.9861 - val_loss: 2.3929 - val_accuracy: 0.6040\n",
            "Epoch 56/60\n",
            "67/67 [==============================] - 1s 15ms/step - loss: 0.0079 - accuracy: 0.9998 - val_loss: 2.5106 - val_accuracy: 0.6120\n",
            "Epoch 57/60\n",
            "67/67 [==============================] - 1s 15ms/step - loss: 0.0026 - accuracy: 1.0000 - val_loss: 2.5793 - val_accuracy: 0.6213\n",
            "Epoch 58/60\n",
            "67/67 [==============================] - 1s 15ms/step - loss: 0.0018 - accuracy: 1.0000 - val_loss: 2.6583 - val_accuracy: 0.6220\n",
            "Epoch 59/60\n",
            "67/67 [==============================] - 1s 15ms/step - loss: 0.0015 - accuracy: 1.0000 - val_loss: 2.6935 - val_accuracy: 0.6213\n",
            "Epoch 60/60\n",
            "67/67 [==============================] - 1s 15ms/step - loss: 0.0013 - accuracy: 1.0000 - val_loss: 2.7298 - val_accuracy: 0.6187\n"
          ]
        }
      ],
      "source": [
        "MyCNN2 = MyCNN()\n",
        "\n",
        "MyCNN2.compile(optimizer='adamax',\n",
        "               loss=tf.keras.losses.SparseCategoricalCrossentropy(from_logits=True),\n",
        "               metrics=['accuracy'])\n",
        "\n",
        "MyCNN2_hist = MyCNN2.fit(x_train, y_train,\n",
        "                         epochs=60, batch_size=128,\n",
        "                         validation_data=(x_val, y_val))"
      ]
    },
    {
      "cell_type": "markdown",
      "metadata": {
        "id": "xyxBsOc1MhRr"
      },
      "source": [
        "#### Βήμα 2"
      ]
    },
    {
      "cell_type": "markdown",
      "metadata": {
        "id": "pJH6tKiwG3Zn"
      },
      "source": [
        "<p>Παρακάτω θα παρουσιάσουμε το διάγραμμα ανάμεσα στα μεγέθη training accuracy και validation accuracy για κάθε μια από τις προηγούμενες περιπτώσεις. Θα χρησιμοποιήσουμε την ακόλουθη συνάρτηση.</p>"
      ]
    },
    {
      "cell_type": "code",
      "execution_count": 13,
      "metadata": {
        "id": "4A4Ae1xoDiJB"
      },
      "outputs": [],
      "source": [
        "def plot(history,title):\n",
        "  fig = plt.figure()\n",
        "  plt.title(title)\n",
        "  plt.plot(history.history['accuracy'], label=(title+'accuracy'))\n",
        "  plt.plot(history.history['val_accuracy'], label = (title+'validation accuracy'))\n",
        "  plt.xlabel('Epoch')\n",
        "  plt.ylabel('Accuracy')\n",
        "  plt.legend(loc='lower right')"
      ]
    },
    {
      "cell_type": "markdown",
      "metadata": {
        "id": "kr17_oScodca"
      },
      "source": [
        "LeNet1"
      ]
    },
    {
      "cell_type": "code",
      "execution_count": 171,
      "metadata": {
        "colab": {
          "base_uri": "https://localhost:8080/",
          "height": 295
        },
        "id": "sf4CjId9IVEL",
        "outputId": "f0f97246-1250-466b-a369-98f6e01e7735"
      },
      "outputs": [
        {
          "output_type": "display_data",
          "data": {
            "text/plain": [
              "<Figure size 432x288 with 1 Axes>"
            ],
            "image/png": "[encoded data removed]"
          },
          "metadata": {
            "needs_background": "light"
          }
        }
      ],
      "source": [
        "plot(LeNet1_hist,\"LeNet1\")\n",
        "plt.show()"
      ]
    },
    {
      "cell_type": "markdown",
      "metadata": {
        "id": "MGJVgImFofrc"
      },
      "source": [
        "LeNet2"
      ]
    },
    {
      "cell_type": "code",
      "execution_count": 172,
      "metadata": {
        "colab": {
          "base_uri": "https://localhost:8080/",
          "height": 295
        },
        "id": "tEafAJyYJP5q",
        "outputId": "9e453cf8-31f0-46e6-f6db-b9fd5884b6d0"
      },
      "outputs": [
        {
          "output_type": "display_data",
          "data": {
            "text/plain": [
              "<Figure size 432x288 with 1 Axes>"
            ],
            "image/png": "[encoded data removed]"
          },
          "metadata": {
            "needs_background": "light"
          }
        }
      ],
      "source": [
        "plot(LeNet2_hist,\"LeNet2\")\n",
        "plt.show()"
      ]
    },
    {
      "cell_type": "markdown",
      "metadata": {
        "id": "EPDYnEh9FsC0"
      },
      "source": [
        "AlexNet1"
      ]
    },
    {
      "cell_type": "code",
      "execution_count": 173,
      "metadata": {
        "colab": {
          "base_uri": "https://localhost:8080/",
          "height": 295
        },
        "id": "MDMK1zplqCLU",
        "outputId": "730ac778-c06f-4feb-cdb0-9f3cc8aee13f"
      },
      "outputs": [
        {
          "output_type": "display_data",
          "data": {
            "text/plain": [
              "<Figure size 432x288 with 1 Axes>"
            ],
            "image/png": "[encoded data removed]"
          },
          "metadata": {
            "needs_background": "light"
          }
        }
      ],
      "source": [
        "plot(AlexNet1_hist,\"AlexNet1\")\n",
        "plt.show()"
      ]
    },
    {
      "cell_type": "markdown",
      "metadata": {
        "id": "drZBKC7hqWXY"
      },
      "source": [
        "AlexNet2"
      ]
    },
    {
      "cell_type": "code",
      "execution_count": 174,
      "metadata": {
        "colab": {
          "base_uri": "https://localhost:8080/",
          "height": 295
        },
        "id": "fDlTjdaoqYuB",
        "outputId": "ea0cf50f-33e5-4958-a1a6-a65f923d4916"
      },
      "outputs": [
        {
          "output_type": "display_data",
          "data": {
            "text/plain": [
              "<Figure size 432x288 with 1 Axes>"
            ],
            "image/png": "[encoded data removed]"
          },
          "metadata": {
            "needs_background": "light"
          }
        }
      ],
      "source": [
        "plot(AlexNet2_hist,\"AlexNet2\")\n",
        "plt.show()"
      ]
    },
    {
      "cell_type": "markdown",
      "metadata": {
        "id": "mCEfJwbvttRr"
      },
      "source": [
        "VGG1"
      ]
    },
    {
      "cell_type": "code",
      "execution_count": 175,
      "metadata": {
        "colab": {
          "base_uri": "https://localhost:8080/",
          "height": 295
        },
        "id": "pf2jZKbltvlM",
        "outputId": "01676e5b-fe3a-428c-f191-8d5d7f37c554"
      },
      "outputs": [
        {
          "output_type": "display_data",
          "data": {
            "text/plain": [
              "<Figure size 432x288 with 1 Axes>"
            ],
            "image/png": "[encoded data removed]"
          },
          "metadata": {
            "needs_background": "light"
          }
        }
      ],
      "source": [
        "plot(VGG1_hist,\"VGG1\")\n",
        "plt.show()"
      ]
    },
    {
      "cell_type": "markdown",
      "metadata": {
        "id": "Wu7OOQ0qtuYq"
      },
      "source": [
        "VGG2"
      ]
    },
    {
      "cell_type": "code",
      "execution_count": 176,
      "metadata": {
        "colab": {
          "base_uri": "https://localhost:8080/",
          "height": 295
        },
        "id": "G9FLi0lMtxl2",
        "outputId": "aa5764b1-38e9-4192-9093-584be6fc7eb0"
      },
      "outputs": [
        {
          "output_type": "display_data",
          "data": {
            "text/plain": [
              "<Figure size 432x288 with 1 Axes>"
            ],
            "image/png": "[encoded data removed]"
          },
          "metadata": {
            "needs_background": "light"
          }
        }
      ],
      "source": [
        "plot(VGG2_hist,\"VGG2\")\n",
        "plt.show()"
      ]
    },
    {
      "cell_type": "markdown",
      "metadata": {
        "id": "A4FI11kk7KwF"
      },
      "source": [
        "MyCNN1"
      ]
    },
    {
      "cell_type": "code",
      "execution_count": 177,
      "metadata": {
        "colab": {
          "base_uri": "https://localhost:8080/",
          "height": 295
        },
        "id": "oGmsjqfy7PFs",
        "outputId": "a2c340e5-5559-4a01-e331-deabf36bc4f7"
      },
      "outputs": [
        {
          "output_type": "display_data",
          "data": {
            "text/plain": [
              "<Figure size 432x288 with 1 Axes>"
            ],
            "image/png": "[encoded data removed]"
          },
          "metadata": {
            "needs_background": "light"
          }
        }
      ],
      "source": [
        "plot(MyCNN1_hist,\"MyCNN1\")\n",
        "plt.show()"
      ]
    },
    {
      "cell_type": "markdown",
      "metadata": {
        "id": "C6p4zJOq7Kdo"
      },
      "source": [
        "MyCNN2"
      ]
    },
    {
      "cell_type": "code",
      "execution_count": 178,
      "metadata": {
        "colab": {
          "base_uri": "https://localhost:8080/",
          "height": 295
        },
        "id": "vEwxbF-h7Pkp",
        "outputId": "f85ff4c3-b43c-4f37-93d4-63d245be0c63"
      },
      "outputs": [
        {
          "output_type": "display_data",
          "data": {
            "text/plain": [
              "<Figure size 432x288 with 1 Axes>"
            ],
            "image/png": "[encoded data removed]"
          },
          "metadata": {
            "needs_background": "light"
          }
        }
      ],
      "source": [
        "plot(MyCNN2_hist,\"MyCNN2\")\n",
        "plt.show()"
      ]
    },
    {
      "cell_type": "markdown",
      "metadata": {
        "id": "94_r_-ouEuDE"
      },
      "source": [
        "Στη συνέχεια για κάθε κατηγορία μοντέλου επιλέγουμε από τις δύο διαφορετικές περιπτώσεις την καλύτερη και τις παρουσιάζουμε συγκεντρωτικά."
      ]
    },
    {
      "cell_type": "code",
      "execution_count": 179,
      "metadata": {
        "colab": {
          "base_uri": "https://localhost:8080/",
          "height": 965
        },
        "id": "7gwq68wYFBPC",
        "outputId": "3be721de-2b3c-48ea-f77f-b9632e7ce91f"
      },
      "outputs": [
        {
          "output_type": "execute_result",
          "data": {
            "text/plain": [
              "<matplotlib.legend.Legend at 0x7f5873475490>"
            ]
          },
          "metadata": {},
          "execution_count": 179
        },
        {
          "output_type": "display_data",
          "data": {
            "text/plain": [
              "<Figure size 1152x1152 with 1 Axes>"
            ],
            "image/png": "[encoded data removed]"
          },
          "metadata": {
            "needs_background": "light"
          }
        }
      ],
      "source": [
        "fig=plt.figure(figsize=(16,16))\n",
        "histories=[LeNet2_hist, AlexNet1_hist, VGG1_hist, MyCNN2_hist]\n",
        "labels=[\"LeNet\",\"AlexNet\",\"VGG\",\"MyCNN\"]\n",
        "colors = ['r','b','m','g','y']\n",
        "plt.title(\"Comparison of models\")\n",
        "index=0\n",
        "for j in histories:\n",
        "  plt.plot(j.history['accuracy'], label=labels[index]+': accuracy', color=colors[index%5])\n",
        "  plt.plot(j.history['val_accuracy'], linestyle='dotted', label = labels[index] + ': val_accuracy',color=colors[index%5])\n",
        "  index+=1\n",
        "plt.xlabel('Epochs')\n",
        "plt.ylabel('Accuracy')\n",
        "plt.legend(loc='upper left')  "
      ]
    },
    {
      "cell_type": "markdown",
      "metadata": {
        "id": "mA7YTzpAPD_A"
      },
      "source": [
        "Στη συνέχεια θα εξηγήσουμε την επίδραση διαφόρων παραμέτρων στο μοντέλο και τη διαδικασία εκπαίδευσης.\n",
        "<ul>\n",
        "  <li><b>Επίδραση του πλήθους των δεδομένων/κλάσεων στην απόδοση του μοντέλου :</b> <p align='justify'>Όταν προστίθενται δεδομένα, παρατηρούμε μειωμένη απόδοση του μοντέλου καθώς και μεγαλύτερη αναμονή, κατά το χρόνο εκπαιδευσης ανά εποχή. Προσθέτωντας περισσότερα δεδομένα έχουμε νέες κλάσεις και δημιουργείται ένα πιο πολύπλοκο σύστημα το οποίο χρειάζεται μεγλύτερα training sets. Τέλος η επιπλέον καθυστέρηση προκύπτει από τις εικόνες και τον πρόσθετο χώρο που καταλαμβάνουν επιβραδύνοντας την εκπαίδευση.</p></li>\n",
        "  <li><b>Επίδραση του αλγόριθμου βελτιστοποίησης (optimizer)</b> <p align=\"justify\">Όπως μπορούμε να παρατηρήσουμε από τα προηγούμενα (π.χ. AlexNet) υπάρχει υπεροχή ως προς την ταχύτητα σύγκλισης του Adam σε σύγκριση με το SGD. Ωστόσο στο VGG βλέπουμε πως έχουμε καλύτερα αποτελέσματα με το SGD σε σχέση με το Adam γι' αυτό άλλωστε τελικά το χρησιμοποιήσαμε και στις δύο υλοποιήσεις. Τέλος στην υλοποίηση MyCNN δοκιμάζοντας τον SGD και Adamax παρατηρούμε υπεροχή του δεύτερου.</p></li>\n",
        "  <li><b>Επίδραση του μεγέθους δέσμης (batch size)</b> <p align=\"justify\">Παρατηρούμε πως όσο μεγαλύτερο είναι το μέγεθος δέσμης, επιβραδύνεται η σύγκλιση του μοντέλου σε επαρκή αποτελέσματα, αν και η εκπαίδευση ανά εποχή, γίνεται πιο γρήγορα. Όσο μικραίνει η τιμή του μεγέθους δέσμης τόσο μεγαλώνει η τιμή της διασποράς (variance) στο μοντέλο μας. Αυτό σημαίνει πως με μικρή τιμή batch size, δημιουργείται \"θόρυβος\" και το μοντέλο δεν αποδίδει όπως θα έπρεπε. </p></li>\n",
        " </ul>"
      ]
    },
    {
      "cell_type": "markdown",
      "metadata": {
        "id": "GT_XuBwLMrqh"
      },
      "source": [
        "#### Βήμα 3"
      ]
    },
    {
      "cell_type": "code",
      "execution_count": 180,
      "metadata": {
        "colab": {
          "base_uri": "https://localhost:8080/"
        },
        "id": "C9l_YcuyX2sA",
        "outputId": "a6d491bf-d45a-437e-fd86-3a6b7ef960a2"
      },
      "outputs": [
        {
          "output_type": "stream",
          "name": "stdout",
          "text": [
            "LeNet:\n",
            "63/63 - 0s - loss: 1.8424 - accuracy: 0.4230 - 204ms/epoch - 3ms/step\n",
            "\n",
            "\n",
            "AlexNet:\n",
            "63/63 - 2s - loss: 2.6927 - accuracy: 0.5180 - 2s/epoch - 26ms/step\n",
            "\n",
            "\n",
            "VGG:\n",
            "63/63 - 2s - loss: 2.7931 - accuracy: 0.5650 - 2s/epoch - 24ms/step\n",
            "\n",
            "\n",
            "MyCNN:\n",
            "63/63 - 0s - loss: 2.9084 - accuracy: 0.6040 - 198ms/epoch - 3ms/step\n"
          ]
        },
        {
          "output_type": "execute_result",
          "data": {
            "text/plain": [
              "[2.9083545207977295, 0.6039999723434448]"
            ]
          },
          "metadata": {},
          "execution_count": 180
        }
      ],
      "source": [
        "print(\"LeNet:\")\n",
        "LeNet2.evaluate(x_test28, y_test, verbose=2)\n",
        "print(\"\\n\")\n",
        "print(\"AlexNet:\")\n",
        "AlexNet1.evaluate(x_test224, y_test, verbose=2)\n",
        "print(\"\\n\")\n",
        "print(\"VGG:\")\n",
        "VGG1.evaluate(x_test224, y_test, verbose=2)\n",
        "print(\"\\n\")\n",
        "print(\"MyCNN:\")\n",
        "MyCNN2.evaluate(x_test, y_test, verbose=2)"
      ]
    },
    {
      "cell_type": "markdown",
      "metadata": {
        "id": "MXN1zFY1oHE7"
      },
      "source": [
        "Ανάμεσα στα τέσσερα \"καλύτερα\" μοντέλα που επιλέξαμε, παρατηρούμε πως η μεγαλύτερη ακρίβεια υπάρχει για το μοντέλο MyCNN2, ενώ και το μεγαλύτερο loss σημειώνεται στο MyCNN2."
      ]
    },
    {
      "cell_type": "markdown",
      "metadata": {
        "id": "v8rhgSGOV5pm"
      },
      "source": [
        "\n",
        "## Ερώτημα 2\n",
        "---\n",
        "### Βήμα 1: Έλεγχος υπερεκπαίδευσης\n",
        "\n",
        "Για τον καλύτερο συνδυασμό που λάβατε από το Ερώτημα 1 για μοντέλο σας  (**MyCNN**) και μόνο, δοκιμάστε διάφορους συνδυασμούς των ακόλουθων τεχνικών για τον έλεγχο της υπερεκπαίδευσης (overfitting), όπως: \n",
        "- Πρόωρος τερματισμός (early stopping [tf.keras.callbacks.EarlyStopping](https://www.tensorflow.org/api_docs/python/tf/keras/callbacks/EarlyStoppinghttps://)) \n",
        "\n",
        "- Dropout ([Dropout](https://www.tensorflow.org/tutorials/images/classification#dropout))\n",
        "\n",
        "- Επαύξηση δεδομένων ([Data augmentation](https://www.tensorflow.org/tutorials/images/classification#data_augmentation), [ImageDataGenerator](https://www.tensorflow.org/api_docs/python/tf/keras/preprocessing/image/ImageDataGenerator#class_imagedatagenerator)) \n",
        "\n",
        "\\\\\n",
        ", ώστε το μοντέλο σας να γενικεύει καλύτερα.\n",
        "\n",
        "---\n",
        "### Βήμα 2: Αξιολόγηση\n",
        "Αξιολογήστε της ορθότητας για το validation και το test set σας."
      ]
    },
    {
      "cell_type": "markdown",
      "source": [
        "#### Βήμα 1"
      ],
      "metadata": {
        "id": "H_XfJUUISAAH"
      }
    },
    {
      "cell_type": "markdown",
      "metadata": {
        "id": "hDRgcD5fL2bI"
      },
      "source": [
        "Θα φτιάξουμε τρία μοντέλα. Αρχικά φτιάχνουμε ένα μοντέλο το οποίο αξιοποιεί τεχνική dropout. Επίσης θα χρησιμοποιήσουμε early stopping με patience ίσο με 3, δεν θα χρησιμοποιηθεί τεχνική data augmentation."
      ]
    },
    {
      "cell_type": "code",
      "execution_count": 39,
      "metadata": {
        "id": "PS3ERNEXXkqy"
      },
      "outputs": [],
      "source": [
        "def MyCNN_1():\n",
        "  return tf.keras.models.Sequential([                            \n",
        "        tf.keras.layers.Conv2D(filters=32, kernel_size=3,activation='relu'),\n",
        "        tf.keras.layers.MaxPool2D(pool_size=2),\n",
        "\n",
        "        tf.keras.layers.Conv2D(filters=64, kernel_size=5, padding='same',\n",
        "                               activation='relu'),\n",
        "        tf.keras.layers.MaxPool2D(pool_size=2),\n",
        "\n",
        "        tf.keras.layers.Conv2D(filters=128, kernel_size=11, padding='same',\n",
        "                               activation='relu'),\n",
        "        tf.keras.layers.MaxPool2D(pool_size=2),  \n",
        "\n",
        "        tf.keras.layers.Conv2D(filters=256, kernel_size=3, padding='same',\n",
        "                               activation='relu'),\n",
        "        \n",
        "        tf.keras.layers.Flatten(),\n",
        "        tf.keras.layers.Dense(128, activation='relu'),\n",
        "        tf.keras.layers.Dropout(0.5),\n",
        "        tf.keras.layers.Dense(128, activation='relu'),\n",
        "        tf.keras.layers.Dropout(0.5),\n",
        "        tf.keras.layers.Dense(20)\n",
        "    ])"
      ]
    },
    {
      "cell_type": "code",
      "execution_count": 40,
      "metadata": {
        "colab": {
          "base_uri": "https://localhost:8080/"
        },
        "id": "0A6EdGuhANOr",
        "outputId": "44a7dc00-642f-4ff2-a410-1a512c6b02f9"
      },
      "outputs": [
        {
          "output_type": "stream",
          "name": "stdout",
          "text": [
            "Epoch 1/60\n",
            "67/67 [==============================] - 2s 20ms/step - loss: 2.9392 - accuracy: 0.0788 - val_loss: 2.8826 - val_accuracy: 0.1020\n",
            "Epoch 2/60\n",
            "67/67 [==============================] - 1s 15ms/step - loss: 2.8948 - accuracy: 0.0947 - val_loss: 2.8633 - val_accuracy: 0.1153\n",
            "Epoch 3/60\n",
            "67/67 [==============================] - 1s 15ms/step - loss: 2.8697 - accuracy: 0.1044 - val_loss: 2.7971 - val_accuracy: 0.1513\n",
            "Epoch 4/60\n",
            "67/67 [==============================] - 1s 15ms/step - loss: 2.8137 - accuracy: 0.1182 - val_loss: 2.6314 - val_accuracy: 0.2053\n",
            "Epoch 5/60\n",
            "67/67 [==============================] - 1s 15ms/step - loss: 2.6671 - accuracy: 0.1668 - val_loss: 2.4122 - val_accuracy: 0.2560\n",
            "Epoch 6/60\n",
            "67/67 [==============================] - 1s 15ms/step - loss: 2.5116 - accuracy: 0.2087 - val_loss: 2.2397 - val_accuracy: 0.2960\n",
            "Epoch 7/60\n",
            "67/67 [==============================] - 1s 15ms/step - loss: 2.3644 - accuracy: 0.2516 - val_loss: 2.1133 - val_accuracy: 0.3180\n",
            "Epoch 8/60\n",
            "67/67 [==============================] - 1s 15ms/step - loss: 2.2664 - accuracy: 0.2713 - val_loss: 2.0318 - val_accuracy: 0.3880\n",
            "Epoch 9/60\n",
            "67/67 [==============================] - 1s 16ms/step - loss: 2.1919 - accuracy: 0.2953 - val_loss: 1.9950 - val_accuracy: 0.3980\n",
            "Epoch 10/60\n",
            "67/67 [==============================] - 1s 15ms/step - loss: 2.1088 - accuracy: 0.3285 - val_loss: 1.8654 - val_accuracy: 0.3987\n",
            "Epoch 11/60\n",
            "67/67 [==============================] - 1s 17ms/step - loss: 2.0372 - accuracy: 0.3496 - val_loss: 1.8068 - val_accuracy: 0.4407\n",
            "Epoch 12/60\n",
            "67/67 [==============================] - 1s 17ms/step - loss: 1.9734 - accuracy: 0.3688 - val_loss: 1.8002 - val_accuracy: 0.4473\n",
            "Epoch 13/60\n",
            "67/67 [==============================] - 1s 15ms/step - loss: 1.9325 - accuracy: 0.3822 - val_loss: 1.7339 - val_accuracy: 0.4640\n",
            "Epoch 14/60\n",
            "67/67 [==============================] - 1s 17ms/step - loss: 1.8702 - accuracy: 0.4058 - val_loss: 1.6574 - val_accuracy: 0.4780\n",
            "Epoch 15/60\n",
            "67/67 [==============================] - 1s 15ms/step - loss: 1.8086 - accuracy: 0.4211 - val_loss: 1.6890 - val_accuracy: 0.4820\n",
            "Epoch 16/60\n",
            "67/67 [==============================] - 1s 15ms/step - loss: 1.7551 - accuracy: 0.4373 - val_loss: 1.6482 - val_accuracy: 0.4827\n",
            "Epoch 17/60\n",
            "67/67 [==============================] - 1s 16ms/step - loss: 1.7032 - accuracy: 0.4593 - val_loss: 1.5876 - val_accuracy: 0.5047\n",
            "Epoch 18/60\n",
            "67/67 [==============================] - 1s 16ms/step - loss: 1.6425 - accuracy: 0.4747 - val_loss: 1.5668 - val_accuracy: 0.5247\n",
            "Epoch 19/60\n",
            "67/67 [==============================] - 1s 17ms/step - loss: 1.5969 - accuracy: 0.4854 - val_loss: 1.5054 - val_accuracy: 0.5280\n",
            "Epoch 20/60\n",
            "67/67 [==============================] - 1s 16ms/step - loss: 1.5712 - accuracy: 0.4989 - val_loss: 1.5261 - val_accuracy: 0.5293\n",
            "Epoch 21/60\n",
            "67/67 [==============================] - 1s 15ms/step - loss: 1.4899 - accuracy: 0.5228 - val_loss: 1.4817 - val_accuracy: 0.5353\n",
            "Epoch 22/60\n",
            "67/67 [==============================] - 1s 17ms/step - loss: 1.4720 - accuracy: 0.5261 - val_loss: 1.4650 - val_accuracy: 0.5460\n",
            "Epoch 23/60\n",
            "67/67 [==============================] - 1s 16ms/step - loss: 1.4015 - accuracy: 0.5472 - val_loss: 1.4349 - val_accuracy: 0.5607\n",
            "Epoch 24/60\n",
            "67/67 [==============================] - 1s 16ms/step - loss: 1.3668 - accuracy: 0.5638 - val_loss: 1.3993 - val_accuracy: 0.5553\n",
            "Epoch 25/60\n",
            "67/67 [==============================] - 1s 16ms/step - loss: 1.3026 - accuracy: 0.5776 - val_loss: 1.4149 - val_accuracy: 0.5680\n",
            "Epoch 26/60\n",
            "67/67 [==============================] - 1s 16ms/step - loss: 1.2328 - accuracy: 0.6065 - val_loss: 1.4033 - val_accuracy: 0.5653\n",
            "Epoch 27/60\n",
            "67/67 [==============================] - 1s 16ms/step - loss: 1.2131 - accuracy: 0.6045 - val_loss: 1.4065 - val_accuracy: 0.5713\n"
          ]
        }
      ],
      "source": [
        "callback = tf.keras.callbacks.EarlyStopping(monitor='val_loss', patience=3)\n",
        "\n",
        "MyCNN1 = MyCNN_1()\n",
        "\n",
        "MyCNN1.compile(optimizer='adamax',\n",
        "              loss=tf.keras.losses.SparseCategoricalCrossentropy(from_logits=True),\n",
        "              metrics=['accuracy'])\n",
        "\n",
        "MyCNN1_history = MyCNN1.fit(x_train, y_train, \n",
        "                    epochs=60, batch_size=128, callbacks = [callback],\n",
        "                    validation_data=(x_val, y_val))"
      ]
    },
    {
      "cell_type": "markdown",
      "metadata": {
        "id": "dj8NssYvHn3a"
      },
      "source": [
        "Στη συνέχεια θα δημιουργήσουμε ένα μοντέλο το οποίο θα χρησιμοποιεί τεχνική data augmentation και early stopping με τιμή patience ίση με 5 (δεν θα χρησιμοποιείται dropout). "
      ]
    },
    {
      "cell_type": "code",
      "execution_count": 18,
      "metadata": {
        "id": "Oxou3AcvN4Nu"
      },
      "outputs": [],
      "source": [
        "def MyCNN_2():\n",
        "  data_augmentation = tf.keras.Sequential(\n",
        "  [\n",
        "    layers.RandomFlip(\"horizontal\",\n",
        "                      input_shape=(32,\n",
        "                                  32,\n",
        "                                  3)),\n",
        "    layers.RandomRotation(0.1),\n",
        "    layers.RandomZoom(0.1),\n",
        "  ]\n",
        ")\n",
        "  return tf.keras.models.Sequential([\n",
        "        data_augmentation,                            \n",
        "        tf.keras.layers.Conv2D(filters=32, kernel_size=3,activation='relu'),\n",
        "        tf.keras.layers.MaxPool2D(pool_size=2),\n",
        "\n",
        "        tf.keras.layers.Conv2D(filters=64, kernel_size=5, padding='same',\n",
        "                               activation='relu'),\n",
        "        tf.keras.layers.MaxPool2D(pool_size=2),\n",
        "\n",
        "        tf.keras.layers.Conv2D(filters=128, kernel_size=11, padding='same',\n",
        "                               activation='relu'),\n",
        "        tf.keras.layers.MaxPool2D(pool_size=2),  \n",
        "\n",
        "        tf.keras.layers.Conv2D(filters=256, kernel_size=3, padding='same',\n",
        "                               activation='relu'),\n",
        "        \n",
        "        tf.keras.layers.Flatten(),\n",
        "        tf.keras.layers.Dense(128, activation='relu'),\n",
        "        tf.keras.layers.Dense(128, activation='relu'),\n",
        "        tf.keras.layers.Dense(20)\n",
        "    ])"
      ]
    },
    {
      "cell_type": "code",
      "execution_count": 19,
      "metadata": {
        "colab": {
          "base_uri": "https://localhost:8080/"
        },
        "id": "UJoWPfP4OA75",
        "outputId": "47dfb2eb-f68e-40a7-88bf-4239e3e0d034"
      },
      "outputs": [
        {
          "output_type": "stream",
          "name": "stdout",
          "text": [
            "Epoch 1/60\n",
            "67/67 [==============================] - 2s 20ms/step - loss: 2.7958 - accuracy: 0.1178 - val_loss: 2.4842 - val_accuracy: 0.2033\n",
            "Epoch 2/60\n",
            "67/67 [==============================] - 1s 18ms/step - loss: 2.3861 - accuracy: 0.2339 - val_loss: 2.2186 - val_accuracy: 0.2913\n",
            "Epoch 3/60\n",
            "67/67 [==============================] - 1s 16ms/step - loss: 2.2269 - accuracy: 0.2874 - val_loss: 2.0912 - val_accuracy: 0.3340\n",
            "Epoch 4/60\n",
            "67/67 [==============================] - 1s 19ms/step - loss: 2.0770 - accuracy: 0.3444 - val_loss: 1.9853 - val_accuracy: 0.3727\n",
            "Epoch 5/60\n",
            "67/67 [==============================] - 1s 17ms/step - loss: 1.9586 - accuracy: 0.3788 - val_loss: 1.8525 - val_accuracy: 0.4087\n",
            "Epoch 6/60\n",
            "67/67 [==============================] - 1s 17ms/step - loss: 1.8716 - accuracy: 0.4066 - val_loss: 1.8060 - val_accuracy: 0.4320\n",
            "Epoch 7/60\n",
            "67/67 [==============================] - 1s 17ms/step - loss: 1.7909 - accuracy: 0.4355 - val_loss: 1.7552 - val_accuracy: 0.4460\n",
            "Epoch 8/60\n",
            "67/67 [==============================] - 1s 17ms/step - loss: 1.7487 - accuracy: 0.4407 - val_loss: 1.6928 - val_accuracy: 0.4693\n",
            "Epoch 9/60\n",
            "67/67 [==============================] - 1s 17ms/step - loss: 1.6922 - accuracy: 0.4591 - val_loss: 1.6558 - val_accuracy: 0.4667\n",
            "Epoch 10/60\n",
            "67/67 [==============================] - 1s 18ms/step - loss: 1.6441 - accuracy: 0.4774 - val_loss: 1.6487 - val_accuracy: 0.4713\n",
            "Epoch 11/60\n",
            "67/67 [==============================] - 1s 17ms/step - loss: 1.6072 - accuracy: 0.4926 - val_loss: 1.8062 - val_accuracy: 0.4447\n",
            "Epoch 12/60\n",
            "67/67 [==============================] - 1s 18ms/step - loss: 1.5955 - accuracy: 0.4893 - val_loss: 1.6500 - val_accuracy: 0.4807\n",
            "Epoch 13/60\n",
            "67/67 [==============================] - 1s 18ms/step - loss: 1.5383 - accuracy: 0.5064 - val_loss: 1.5187 - val_accuracy: 0.5180\n",
            "Epoch 14/60\n",
            "67/67 [==============================] - 1s 17ms/step - loss: 1.5100 - accuracy: 0.5211 - val_loss: 1.5493 - val_accuracy: 0.5053\n",
            "Epoch 15/60\n",
            "67/67 [==============================] - 1s 17ms/step - loss: 1.4655 - accuracy: 0.5301 - val_loss: 1.5342 - val_accuracy: 0.5187\n",
            "Epoch 16/60\n",
            "67/67 [==============================] - 1s 17ms/step - loss: 1.4292 - accuracy: 0.5411 - val_loss: 1.6177 - val_accuracy: 0.4900\n",
            "Epoch 17/60\n",
            "67/67 [==============================] - 1s 18ms/step - loss: 1.4073 - accuracy: 0.5501 - val_loss: 1.5705 - val_accuracy: 0.5000\n",
            "Epoch 18/60\n",
            "67/67 [==============================] - 1s 17ms/step - loss: 1.3970 - accuracy: 0.5481 - val_loss: 1.4601 - val_accuracy: 0.5240\n",
            "Epoch 19/60\n",
            "67/67 [==============================] - 1s 17ms/step - loss: 1.3818 - accuracy: 0.5580 - val_loss: 1.4759 - val_accuracy: 0.5367\n",
            "Epoch 20/60\n",
            "67/67 [==============================] - 1s 17ms/step - loss: 1.3170 - accuracy: 0.5753 - val_loss: 1.5335 - val_accuracy: 0.5007\n",
            "Epoch 21/60\n",
            "67/67 [==============================] - 1s 17ms/step - loss: 1.3223 - accuracy: 0.5754 - val_loss: 1.5040 - val_accuracy: 0.5267\n",
            "Epoch 22/60\n",
            "67/67 [==============================] - 1s 17ms/step - loss: 1.2904 - accuracy: 0.5801 - val_loss: 1.4593 - val_accuracy: 0.5347\n",
            "Epoch 23/60\n",
            "67/67 [==============================] - 1s 17ms/step - loss: 1.2765 - accuracy: 0.5891 - val_loss: 1.4513 - val_accuracy: 0.5340\n",
            "Epoch 24/60\n",
            "67/67 [==============================] - 1s 18ms/step - loss: 1.2511 - accuracy: 0.5932 - val_loss: 1.4760 - val_accuracy: 0.5280\n",
            "Epoch 25/60\n",
            "67/67 [==============================] - 1s 18ms/step - loss: 1.2140 - accuracy: 0.6061 - val_loss: 1.4570 - val_accuracy: 0.5347\n",
            "Epoch 26/60\n",
            "67/67 [==============================] - 1s 17ms/step - loss: 1.2013 - accuracy: 0.6113 - val_loss: 1.4592 - val_accuracy: 0.5360\n",
            "Epoch 27/60\n",
            "67/67 [==============================] - 1s 18ms/step - loss: 1.1962 - accuracy: 0.6099 - val_loss: 1.4276 - val_accuracy: 0.5420\n",
            "Epoch 28/60\n",
            "67/67 [==============================] - 1s 18ms/step - loss: 1.1725 - accuracy: 0.6208 - val_loss: 1.4376 - val_accuracy: 0.5493\n",
            "Epoch 29/60\n",
            "67/67 [==============================] - 1s 18ms/step - loss: 1.1223 - accuracy: 0.6349 - val_loss: 1.3947 - val_accuracy: 0.5593\n",
            "Epoch 30/60\n",
            "67/67 [==============================] - 1s 18ms/step - loss: 1.1163 - accuracy: 0.6404 - val_loss: 1.4222 - val_accuracy: 0.5420\n",
            "Epoch 31/60\n",
            "67/67 [==============================] - 1s 18ms/step - loss: 1.1064 - accuracy: 0.6395 - val_loss: 1.3750 - val_accuracy: 0.5560\n",
            "Epoch 32/60\n",
            "67/67 [==============================] - 1s 18ms/step - loss: 1.0545 - accuracy: 0.6527 - val_loss: 1.2925 - val_accuracy: 0.5887\n",
            "Epoch 33/60\n",
            "67/67 [==============================] - 1s 17ms/step - loss: 1.0489 - accuracy: 0.6555 - val_loss: 1.3572 - val_accuracy: 0.5813\n",
            "Epoch 34/60\n",
            "67/67 [==============================] - 1s 18ms/step - loss: 1.0295 - accuracy: 0.6626 - val_loss: 1.3445 - val_accuracy: 0.5733\n",
            "Epoch 35/60\n",
            "67/67 [==============================] - 1s 17ms/step - loss: 1.0299 - accuracy: 0.6662 - val_loss: 1.3979 - val_accuracy: 0.5700\n",
            "Epoch 36/60\n",
            "67/67 [==============================] - 1s 17ms/step - loss: 0.9980 - accuracy: 0.6707 - val_loss: 1.3527 - val_accuracy: 0.5840\n",
            "Epoch 37/60\n",
            "67/67 [==============================] - 1s 18ms/step - loss: 0.9579 - accuracy: 0.6865 - val_loss: 1.3980 - val_accuracy: 0.5533\n"
          ]
        }
      ],
      "source": [
        "callback = tf.keras.callbacks.EarlyStopping(monitor='val_loss', patience=5)\n",
        "\n",
        "MyCNN2 = MyCNN_2()\n",
        "\n",
        "MyCNN2.compile(optimizer='adamax',\n",
        "              loss=tf.keras.losses.SparseCategoricalCrossentropy(from_logits=True),\n",
        "              metrics=['accuracy'])\n",
        "\n",
        "MyCNN2_history = MyCNN2.fit(x_train, y_train, \n",
        "                    epochs=60, batch_size=128, callbacks = [callback],\n",
        "                    validation_data=(x_val, y_val))"
      ]
    },
    {
      "cell_type": "markdown",
      "metadata": {
        "id": "-7NmhaI1DiAv"
      },
      "source": [
        "Τέλος θα δημιουργήσουμε ένα παρόμοιο μοντέλο με το πρώτο, όμως αυτή τη φορά θα χρησιμοποιήσουμε διαφορετική τιμή για την τεχνική dropout. Επίσης θα χρησιμοποιήσουμε και data augmentation εκτός από early stopping."
      ]
    },
    {
      "cell_type": "code",
      "source": [
        "def MyCNN_3():\n",
        "  data_augmentation = tf.keras.Sequential(\n",
        "  [\n",
        "    layers.RandomFlip(\"horizontal\",\n",
        "                      input_shape=(32,\n",
        "                                  32,\n",
        "                                  3)),\n",
        "    layers.RandomRotation(0.1),\n",
        "    layers.RandomZoom(0.1),\n",
        "  ]\n",
        ")\n",
        "  return tf.keras.models.Sequential([\n",
        "        data_augmentation,                            \n",
        "        tf.keras.layers.Conv2D(filters=32, kernel_size=3,activation='relu'),\n",
        "        tf.keras.layers.MaxPool2D(pool_size=2),\n",
        "\n",
        "        tf.keras.layers.Conv2D(filters=64, kernel_size=5, padding='same',\n",
        "                               activation='relu'),\n",
        "        tf.keras.layers.MaxPool2D(pool_size=2),\n",
        "\n",
        "        tf.keras.layers.Conv2D(filters=128, kernel_size=11, padding='same',\n",
        "                               activation='relu'),\n",
        "        tf.keras.layers.MaxPool2D(pool_size=2),  \n",
        "\n",
        "        tf.keras.layers.Conv2D(filters=256, kernel_size=3, padding='same',\n",
        "                               activation='relu'),\n",
        "        \n",
        "        tf.keras.layers.Flatten(),\n",
        "        tf.keras.layers.Dense(128, activation='relu'),\n",
        "        tf.keras.layers.Dropout(0.1),\n",
        "        tf.keras.layers.Dense(128, activation='relu'),\n",
        "        tf.keras.layers.Dropout(0.1),\n",
        "        tf.keras.layers.Dense(20)\n",
        "    ])"
      ],
      "metadata": {
        "id": "cUpxUDFiqwHf"
      },
      "execution_count": 43,
      "outputs": []
    },
    {
      "cell_type": "code",
      "execution_count": 44,
      "metadata": {
        "colab": {
          "base_uri": "https://localhost:8080/"
        },
        "id": "Ug-WOX87Dhhm",
        "outputId": "1ced8f38-4966-4722-e6b2-5d5261c7dfb1"
      },
      "outputs": [
        {
          "output_type": "stream",
          "name": "stdout",
          "text": [
            "Epoch 1/60\n",
            "67/67 [==============================] - 2s 20ms/step - loss: 2.7918 - accuracy: 0.1267 - val_loss: 2.4132 - val_accuracy: 0.2420\n",
            "Epoch 2/60\n",
            "67/67 [==============================] - 1s 17ms/step - loss: 2.4023 - accuracy: 0.2398 - val_loss: 2.2030 - val_accuracy: 0.3100\n",
            "Epoch 3/60\n",
            "67/67 [==============================] - 1s 17ms/step - loss: 2.2428 - accuracy: 0.2801 - val_loss: 2.0485 - val_accuracy: 0.3367\n",
            "Epoch 4/60\n",
            "67/67 [==============================] - 1s 17ms/step - loss: 2.1328 - accuracy: 0.3221 - val_loss: 1.9244 - val_accuracy: 0.3820\n",
            "Epoch 5/60\n",
            "67/67 [==============================] - 1s 18ms/step - loss: 2.0150 - accuracy: 0.3555 - val_loss: 1.9670 - val_accuracy: 0.3553\n",
            "Epoch 6/60\n",
            "67/67 [==============================] - 1s 18ms/step - loss: 1.9484 - accuracy: 0.3800 - val_loss: 1.8553 - val_accuracy: 0.4013\n",
            "Epoch 7/60\n",
            "67/67 [==============================] - 1s 18ms/step - loss: 1.8655 - accuracy: 0.4105 - val_loss: 1.7302 - val_accuracy: 0.4507\n",
            "Epoch 8/60\n",
            "67/67 [==============================] - 1s 18ms/step - loss: 1.8212 - accuracy: 0.4252 - val_loss: 1.7185 - val_accuracy: 0.4533\n",
            "Epoch 9/60\n",
            "67/67 [==============================] - 1s 17ms/step - loss: 1.7801 - accuracy: 0.4391 - val_loss: 1.6723 - val_accuracy: 0.4633\n",
            "Epoch 10/60\n",
            "67/67 [==============================] - 1s 18ms/step - loss: 1.7222 - accuracy: 0.4541 - val_loss: 1.6293 - val_accuracy: 0.4820\n",
            "Epoch 11/60\n",
            "67/67 [==============================] - 1s 18ms/step - loss: 1.6903 - accuracy: 0.4646 - val_loss: 1.6848 - val_accuracy: 0.4780\n",
            "Epoch 12/60\n",
            "67/67 [==============================] - 1s 18ms/step - loss: 1.6556 - accuracy: 0.4738 - val_loss: 1.6279 - val_accuracy: 0.4853\n",
            "Epoch 13/60\n",
            "67/67 [==============================] - 1s 17ms/step - loss: 1.6001 - accuracy: 0.4940 - val_loss: 1.6478 - val_accuracy: 0.4887\n",
            "Epoch 14/60\n",
            "67/67 [==============================] - 1s 17ms/step - loss: 1.5843 - accuracy: 0.5019 - val_loss: 1.5187 - val_accuracy: 0.5180\n",
            "Epoch 15/60\n",
            "67/67 [==============================] - 1s 17ms/step - loss: 1.5453 - accuracy: 0.5122 - val_loss: 1.5839 - val_accuracy: 0.5020\n",
            "Epoch 16/60\n",
            "67/67 [==============================] - 1s 18ms/step - loss: 1.5171 - accuracy: 0.5219 - val_loss: 1.4989 - val_accuracy: 0.5207\n",
            "Epoch 17/60\n",
            "67/67 [==============================] - 1s 17ms/step - loss: 1.5047 - accuracy: 0.5294 - val_loss: 1.5633 - val_accuracy: 0.5020\n",
            "Epoch 18/60\n",
            "67/67 [==============================] - 1s 18ms/step - loss: 1.4491 - accuracy: 0.5422 - val_loss: 1.4777 - val_accuracy: 0.5160\n",
            "Epoch 19/60\n",
            "67/67 [==============================] - 1s 17ms/step - loss: 1.4430 - accuracy: 0.5427 - val_loss: 1.3842 - val_accuracy: 0.5607\n",
            "Epoch 20/60\n",
            "67/67 [==============================] - 1s 18ms/step - loss: 1.3971 - accuracy: 0.5524 - val_loss: 1.4023 - val_accuracy: 0.5453\n",
            "Epoch 21/60\n",
            "67/67 [==============================] - 1s 17ms/step - loss: 1.3691 - accuracy: 0.5621 - val_loss: 1.3480 - val_accuracy: 0.5780\n",
            "Epoch 22/60\n",
            "67/67 [==============================] - 1s 18ms/step - loss: 1.3578 - accuracy: 0.5659 - val_loss: 1.3570 - val_accuracy: 0.5713\n",
            "Epoch 23/60\n",
            "67/67 [==============================] - 1s 17ms/step - loss: 1.3294 - accuracy: 0.5758 - val_loss: 1.4194 - val_accuracy: 0.5520\n",
            "Epoch 24/60\n",
            "67/67 [==============================] - 1s 18ms/step - loss: 1.3103 - accuracy: 0.5825 - val_loss: 1.3374 - val_accuracy: 0.5853\n",
            "Epoch 25/60\n",
            "67/67 [==============================] - 1s 18ms/step - loss: 1.2787 - accuracy: 0.5902 - val_loss: 1.3028 - val_accuracy: 0.5760\n",
            "Epoch 26/60\n",
            "67/67 [==============================] - 1s 17ms/step - loss: 1.2794 - accuracy: 0.5913 - val_loss: 1.3119 - val_accuracy: 0.5793\n",
            "Epoch 27/60\n",
            "67/67 [==============================] - 1s 17ms/step - loss: 1.2397 - accuracy: 0.5967 - val_loss: 1.4023 - val_accuracy: 0.5473\n",
            "Epoch 28/60\n",
            "67/67 [==============================] - 1s 17ms/step - loss: 1.2252 - accuracy: 0.6092 - val_loss: 1.3408 - val_accuracy: 0.5773\n"
          ]
        }
      ],
      "source": [
        "callback = tf.keras.callbacks.EarlyStopping(monitor='val_loss', patience=3)\n",
        "\n",
        "MyCNN3 = MyCNN_3()\n",
        "\n",
        "MyCNN3.compile(optimizer='adamax',\n",
        "              loss=tf.keras.losses.SparseCategoricalCrossentropy(from_logits=True),\n",
        "              metrics=['accuracy'])\n",
        "\n",
        "MyCNN3_history = MyCNN3.fit(x_train, y_train, \n",
        "                    epochs=60, batch_size=128, callbacks = [callback],\n",
        "                    validation_data=(x_val, y_val))"
      ]
    },
    {
      "cell_type": "markdown",
      "source": [
        "#### Αξιολόγηση\n",
        "\n",
        "Αρχικά θα δείξουμε τα διαγράμματα accuracy και val accuracy για κάθε μοντέλο."
      ],
      "metadata": {
        "id": "wLp7kIGMbAhI"
      }
    },
    {
      "cell_type": "markdown",
      "metadata": {
        "id": "bg5fP-KmRy33"
      },
      "source": [
        "MyCNN1"
      ]
    },
    {
      "cell_type": "code",
      "execution_count": 45,
      "metadata": {
        "colab": {
          "base_uri": "https://localhost:8080/",
          "height": 295
        },
        "id": "B8yq7tRoR5pm",
        "outputId": "473a7f82-4e8c-4a7f-8011-5f15e8302ae4"
      },
      "outputs": [
        {
          "output_type": "display_data",
          "data": {
            "text/plain": [
              "<Figure size 432x288 with 1 Axes>"
            ],
            "image/png": "[encoded data removed]"
          },
          "metadata": {
            "needs_background": "light"
          }
        }
      ],
      "source": [
        "plot(MyCNN1_history,\"MyCNN1\")\n",
        "plt.show()"
      ]
    },
    {
      "cell_type": "markdown",
      "metadata": {
        "id": "9ouUQXX0R1jQ"
      },
      "source": [
        "MyCNN2"
      ]
    },
    {
      "cell_type": "code",
      "execution_count": 46,
      "metadata": {
        "colab": {
          "base_uri": "https://localhost:8080/",
          "height": 295
        },
        "id": "hs3Y3Fa1R6HB",
        "outputId": "fb548ef5-d6fb-4703-a1e7-bea97dafa0c8"
      },
      "outputs": [
        {
          "output_type": "display_data",
          "data": {
            "text/plain": [
              "<Figure size 432x288 with 1 Axes>"
            ],
            "image/png": "[encoded data removed]"
          },
          "metadata": {
            "needs_background": "light"
          }
        }
      ],
      "source": [
        "plot(MyCNN2_history,\"MyCNN2\")\n",
        "plt.show()"
      ]
    },
    {
      "cell_type": "markdown",
      "metadata": {
        "id": "yNMAy6pXR3XM"
      },
      "source": [
        "MyCNN3"
      ]
    },
    {
      "cell_type": "code",
      "execution_count": 47,
      "metadata": {
        "colab": {
          "base_uri": "https://localhost:8080/",
          "height": 295
        },
        "id": "YkEg0_rLR6ox",
        "outputId": "aa38bd5f-8a46-43e5-e912-4ef7ca7bf172"
      },
      "outputs": [
        {
          "output_type": "display_data",
          "data": {
            "text/plain": [
              "<Figure size 432x288 with 1 Axes>"
            ],
            "image/png": "[encoded data removed]"
          },
          "metadata": {
            "needs_background": "light"
          }
        }
      ],
      "source": [
        "plot(MyCNN3_history,\"MyCNN3\")\n",
        "plt.show()"
      ]
    },
    {
      "cell_type": "markdown",
      "metadata": {
        "id": "0Pe0B3ooScAf"
      },
      "source": [
        "Στη συνέχεια θα αξιολογήσουμε τα μοντέλα μας ως προς τα train και val sets. Ανάλογα με την τιμή loss θα ελέγξουμε το κατα πόσο αποφεύγεται το overfitting."
      ]
    },
    {
      "cell_type": "code",
      "execution_count": 48,
      "metadata": {
        "colab": {
          "base_uri": "https://localhost:8080/"
        },
        "id": "olyeob7WS25Q",
        "outputId": "3963e471-28a6-4f7f-ee80-23251dfabc30"
      },
      "outputs": [
        {
          "output_type": "stream",
          "name": "stdout",
          "text": [
            "MyCNN1:\n",
            "63/63 - 0s - loss: 1.3455 - accuracy: 0.5945 - 259ms/epoch - 4ms/step\n",
            "47/47 - 0s - loss: 1.4065 - accuracy: 0.5713 - 198ms/epoch - 4ms/step\n",
            "\n",
            "\n",
            "MyCNN2:\n",
            "63/63 - 0s - loss: 1.4116 - accuracy: 0.5595 - 242ms/epoch - 4ms/step\n",
            "47/47 - 0s - loss: 1.3980 - accuracy: 0.5533 - 182ms/epoch - 4ms/step\n",
            "\n",
            "\n",
            "MyCNN3:\n",
            "63/63 - 0s - loss: 1.3379 - accuracy: 0.5800 - 236ms/epoch - 4ms/step\n",
            "47/47 - 0s - loss: 1.3408 - accuracy: 0.5773 - 174ms/epoch - 4ms/step\n",
            "\n",
            "\n"
          ]
        }
      ],
      "source": [
        "print(\"MyCNN1:\")\n",
        "MyCNN1.evaluate(x_test, y_test, verbose=2)\n",
        "MyCNN1.evaluate(x_val, y_val, verbose=2)\n",
        "print(\"\\n\")\n",
        "print(\"MyCNN2:\")\n",
        "MyCNN2.evaluate(x_test, y_test, verbose=2)\n",
        "MyCNN2.evaluate(x_val, y_val, verbose=2)\n",
        "print(\"\\n\")\n",
        "print(\"MyCNN3:\")\n",
        "MyCNN3.evaluate(x_test, y_test, verbose=2)\n",
        "MyCNN3.evaluate(x_val, y_val, verbose=2)\n",
        "print(\"\\n\")"
      ]
    },
    {
      "cell_type": "markdown",
      "source": [
        "<p align=\"justify\">Στα προηγούμενα παραδείγματα έχουμε χρησιμοποιήσει διαφορετικούς συνδυασμούς των προτεινόμενων τεχνικών αποφυγής overfitting. Όπως μπορούμε να δούμε, έχουμε αισθητά μικρότερη τιμή loss σε μεγαλύτερο ή μικρότερο βαθμό, για κάθε συνδυασμό σε σύγκριση με το <b>Ερώτημα 1</b>. Η μεγαλύτερη μείωση της τιμής loss γίνεται στο MyCNN3 όπως παρατηρούμε. Άρα το MyCNN3 είναι το βέλτιστο μεταξύ των τριών για την αντιμετώπιση του overfitting</p>"
      ],
      "metadata": {
        "id": "pctgp4MTl8og"
      }
    },
    {
      "cell_type": "markdown",
      "metadata": {
        "id": "jTxKRNEHWfGs"
      },
      "source": [
        "## Ερώτημα 3\n",
        "---\n",
        "### Βήμα 1: Μεταφορά γνώσης\n",
        "Εφαρμόστε μεταφορά γνώσης (transfer learning) στο δικό σας μοντέλο (**MyCNN**), που αξιολογήσατε ως καλύτερο προς την ορθότητα στην αντιμετώπιση της υπερεκπαίδεσης. \n",
        "\n",
        "Για το transfer learning, επιλέξτε το [VGG16](https://www.tensorflow.org/api_docs/python/tf/keras/applications/vgg16) για μεταφορά μάθησης.\n",
        "\n",
        "1. \"Παγώστε\" τη συνελικτική βάση και εκπαιδεύστε την κεφαλή ταξινόμησης (classification head - σημαία trainable = False).  \n",
        "\n",
        "2. Εκπαιδέστε μόνο ένα ποσοστό των επιπέδων, το οποίο βρίσκεται προς την έξοδο του δικτύου. Οι σημαίες trainable εδώ θα πρέπει να οριστούν ανά επίπεδο.\n",
        "\n",
        "3. Αξιολογήστε τα αποτελέσματά σας, βάσει της ορθότητας του validation set και του test set σας."
      ]
    },
    {
      "cell_type": "markdown",
      "source": [
        "#### Ζητούμενο 1"
      ],
      "metadata": {
        "id": "bpl2PplRxout"
      }
    },
    {
      "cell_type": "markdown",
      "source": [
        "<p align=\"justify\">Με βάση το documentation, που βλέπουμε από το σύνδεσμο της εκφώνησης παραπάνω, θα έχουμε τ' ακόλουθα για το πρώτο ζητούμενο.</p>"
      ],
      "metadata": {
        "id": "_V5WEfliuOXL"
      }
    },
    {
      "cell_type": "code",
      "source": [
        "VGG16 = tf.keras.applications.vgg16.VGG16(include_top=False)\n",
        "VGG1=VGG16\n",
        "VGG1.trainable=False"
      ],
      "metadata": {
        "id": "8Z508poTxWct"
      },
      "execution_count": 49,
      "outputs": []
    },
    {
      "cell_type": "markdown",
      "source": [
        "Άρα θα εκπαιδέυσουμε το ακόλουθο μοντέλο στη συνέχεια έχοντας παγώσει την συνελικτική βάση και θέτοντας ως κεφαλή ταξινόμησης το MyCNN3 που ήταν το καλύτερο ως προς την αντιμετώπιση του overfitting."
      ],
      "metadata": {
        "id": "8IC1i0FX4XcD"
      }
    },
    {
      "cell_type": "code",
      "source": [
        "def CNN():\n",
        "  data_augmentation = tf.keras.Sequential([\n",
        "    layers.RandomFlip(\"horizontal\",\n",
        "            input_shape=(32,\n",
        "                        32,\n",
        "                        3)),\n",
        "        layers.RandomRotation(0.1),\n",
        "        layers.RandomZoom(0.1),\n",
        "    ])\n",
        "  return tf.keras.models.Sequential([\n",
        "        data_augmentation,                             \n",
        "        VGG1,                            \n",
        "        tf.keras.layers.Flatten(),\n",
        "        tf.keras.layers.Dense(128, activation='relu'),\n",
        "        tf.keras.layers.Dropout(0.1),\n",
        "        tf.keras.layers.Dense(128, activation='relu'),\n",
        "        tf.keras.layers.Dropout(0.1),\n",
        "        tf.keras.layers.Dense(20)        \n",
        "    ])"
      ],
      "metadata": {
        "id": "AFbLRTeKypft"
      },
      "execution_count": 50,
      "outputs": []
    },
    {
      "cell_type": "code",
      "source": [
        "callback = tf.keras.callbacks.EarlyStopping(monitor='val_loss', patience=3)\n",
        "\n",
        "MyCNN1 = CNN()\n",
        "\n",
        "MyCNN1.compile(optimizer='adamax',\n",
        "              loss=tf.keras.losses.SparseCategoricalCrossentropy(from_logits=True),\n",
        "              metrics=['accuracy'])\n",
        "\n",
        "MyCNN1_history = MyCNN3.fit(x_train, y_train, \n",
        "                    epochs=60, batch_size=128, callbacks = [callback],\n",
        "                    validation_data=(x_val, y_val))"
      ],
      "metadata": {
        "colab": {
          "base_uri": "https://localhost:8080/"
        },
        "id": "dbtT6X1Zz17K",
        "outputId": "14595166-8a5d-49b7-c492-4ceffbe3879b"
      },
      "execution_count": 51,
      "outputs": [
        {
          "output_type": "stream",
          "name": "stdout",
          "text": [
            "Epoch 1/60\n",
            "67/67 [==============================] - 1s 19ms/step - loss: 1.1892 - accuracy: 0.6236 - val_loss: 1.3086 - val_accuracy: 0.5813\n",
            "Epoch 2/60\n",
            "67/67 [==============================] - 1s 18ms/step - loss: 1.1813 - accuracy: 0.6289 - val_loss: 1.3377 - val_accuracy: 0.5667\n",
            "Epoch 3/60\n",
            "67/67 [==============================] - 1s 16ms/step - loss: 1.1628 - accuracy: 0.6327 - val_loss: 1.2704 - val_accuracy: 0.5993\n",
            "Epoch 4/60\n",
            "67/67 [==============================] - 1s 16ms/step - loss: 1.1383 - accuracy: 0.6294 - val_loss: 1.3215 - val_accuracy: 0.5827\n",
            "Epoch 5/60\n",
            "67/67 [==============================] - 1s 16ms/step - loss: 1.1000 - accuracy: 0.6440 - val_loss: 1.3032 - val_accuracy: 0.5827\n",
            "Epoch 6/60\n",
            "67/67 [==============================] - 1s 16ms/step - loss: 1.0910 - accuracy: 0.6475 - val_loss: 1.2927 - val_accuracy: 0.5833\n"
          ]
        }
      ]
    },
    {
      "cell_type": "markdown",
      "source": [
        "#### Ζητούμενο 2"
      ],
      "metadata": {
        "id": "XVgBAwGR6qRO"
      }
    },
    {
      "cell_type": "markdown",
      "source": [
        "Στη συνέχεια κάποια από τα επίπεδα της συνελικτικής βάσης θα τα ξεπαγώσουμε αλλάζοντας τη σημαία trainable σε True."
      ],
      "metadata": {
        "id": "MVLppMN16vwL"
      }
    },
    {
      "cell_type": "code",
      "source": [
        "VGG2 = VGG16\n",
        "index=0;\n",
        "for i in VGG2.layers:\n",
        "  if index<13:\n",
        "    i.trainable = False\n",
        "  if index>=13:\n",
        "    i.trainable = True\n",
        "  index = index + 1"
      ],
      "metadata": {
        "id": "seZt5ST37HG1"
      },
      "execution_count": 53,
      "outputs": []
    },
    {
      "cell_type": "markdown",
      "source": [
        "Θα επαναλάβουμε τη διαδικασία του προηγούμενου ερωτήματος."
      ],
      "metadata": {
        "id": "7_AVk4jf70ZN"
      }
    },
    {
      "cell_type": "code",
      "source": [
        "def CNN1():  \n",
        "  data_augmentation = tf.keras.Sequential([\n",
        "      layers.RandomFlip(\"horizontal\",\n",
        "              input_shape=(32,\n",
        "                          32,\n",
        "                          3)),\n",
        "        layers.RandomRotation(0.1),\n",
        "        layers.RandomZoom(0.1),\n",
        "    ])\n",
        "\n",
        "  return tf.keras.models.Sequential([\n",
        "        data_augmentation,                             \n",
        "        VGG2,                            \n",
        "        tf.keras.layers.Flatten(),\n",
        "        tf.keras.layers.Dense(128, activation='relu'),\n",
        "        tf.keras.layers.Dropout(0.1),\n",
        "        tf.keras.layers.Dense(128, activation='relu'),\n",
        "        tf.keras.layers.Dropout(0.1),\n",
        "        tf.keras.layers.Dense(20)\n",
        "    ])"
      ],
      "metadata": {
        "id": "RG6G5xPcaU-b"
      },
      "execution_count": 54,
      "outputs": []
    },
    {
      "cell_type": "code",
      "source": [
        "callback = tf.keras.callbacks.EarlyStopping(monitor='val_loss', patience=3)\n",
        "\n",
        "MyCNN2 = CNN1()\n",
        "\n",
        "MyCNN2.compile(optimizer='adamax',\n",
        "              loss=tf.keras.losses.SparseCategoricalCrossentropy(from_logits=True),\n",
        "              metrics=['accuracy'])\n",
        "\n",
        "MyCNN2_history = MyCNN2.fit(x_train, y_train, \n",
        "                    epochs=60, batch_size=128, callbacks = [callback],\n",
        "                    validation_data=(x_val, y_val))"
      ],
      "metadata": {
        "colab": {
          "base_uri": "https://localhost:8080/"
        },
        "id": "eDJNjYMp77XL",
        "outputId": "91199aab-2b85-4082-a4da-4bdb10a783cb"
      },
      "execution_count": 55,
      "outputs": [
        {
          "output_type": "stream",
          "name": "stdout",
          "text": [
            "Epoch 1/60\n",
            "67/67 [==============================] - 4s 40ms/step - loss: 2.7193 - accuracy: 0.1854 - val_loss: 2.4204 - val_accuracy: 0.2973\n",
            "Epoch 2/60\n",
            "67/67 [==============================] - 2s 24ms/step - loss: 2.2994 - accuracy: 0.3020 - val_loss: 2.0992 - val_accuracy: 0.3467\n",
            "Epoch 3/60\n",
            "67/67 [==============================] - 2s 25ms/step - loss: 2.1061 - accuracy: 0.3480 - val_loss: 1.9481 - val_accuracy: 0.3953\n",
            "Epoch 4/60\n",
            "67/67 [==============================] - 2s 24ms/step - loss: 1.9916 - accuracy: 0.3767 - val_loss: 1.8488 - val_accuracy: 0.4293\n",
            "Epoch 5/60\n",
            "67/67 [==============================] - 2s 24ms/step - loss: 1.9123 - accuracy: 0.4032 - val_loss: 1.7939 - val_accuracy: 0.4360\n",
            "Epoch 6/60\n",
            "67/67 [==============================] - 2s 25ms/step - loss: 1.8477 - accuracy: 0.4171 - val_loss: 1.7314 - val_accuracy: 0.4673\n",
            "Epoch 7/60\n",
            "67/67 [==============================] - 2s 25ms/step - loss: 1.7941 - accuracy: 0.4288 - val_loss: 1.6886 - val_accuracy: 0.4767\n",
            "Epoch 8/60\n",
            "67/67 [==============================] - 2s 24ms/step - loss: 1.7671 - accuracy: 0.4367 - val_loss: 1.6748 - val_accuracy: 0.4760\n",
            "Epoch 9/60\n",
            "67/67 [==============================] - 2s 24ms/step - loss: 1.7262 - accuracy: 0.4527 - val_loss: 1.6505 - val_accuracy: 0.4787\n",
            "Epoch 10/60\n",
            "67/67 [==============================] - 2s 24ms/step - loss: 1.7001 - accuracy: 0.4612 - val_loss: 1.5992 - val_accuracy: 0.4960\n",
            "Epoch 11/60\n",
            "67/67 [==============================] - 2s 24ms/step - loss: 1.6743 - accuracy: 0.4644 - val_loss: 1.6080 - val_accuracy: 0.4933\n",
            "Epoch 12/60\n",
            "67/67 [==============================] - 2s 25ms/step - loss: 1.6495 - accuracy: 0.4778 - val_loss: 1.5797 - val_accuracy: 0.5020\n",
            "Epoch 13/60\n",
            "67/67 [==============================] - 2s 25ms/step - loss: 1.6305 - accuracy: 0.4801 - val_loss: 1.5631 - val_accuracy: 0.5067\n",
            "Epoch 14/60\n",
            "67/67 [==============================] - 2s 25ms/step - loss: 1.6110 - accuracy: 0.4838 - val_loss: 1.5547 - val_accuracy: 0.5100\n",
            "Epoch 15/60\n",
            "67/67 [==============================] - 2s 24ms/step - loss: 1.5917 - accuracy: 0.4958 - val_loss: 1.5273 - val_accuracy: 0.5167\n",
            "Epoch 16/60\n",
            "67/67 [==============================] - 2s 24ms/step - loss: 1.5906 - accuracy: 0.4887 - val_loss: 1.5261 - val_accuracy: 0.5147\n",
            "Epoch 17/60\n",
            "67/67 [==============================] - 2s 24ms/step - loss: 1.5616 - accuracy: 0.4980 - val_loss: 1.5142 - val_accuracy: 0.5233\n",
            "Epoch 18/60\n",
            "67/67 [==============================] - 2s 25ms/step - loss: 1.5516 - accuracy: 0.5025 - val_loss: 1.4925 - val_accuracy: 0.5347\n",
            "Epoch 19/60\n",
            "67/67 [==============================] - 2s 25ms/step - loss: 1.5395 - accuracy: 0.5079 - val_loss: 1.4835 - val_accuracy: 0.5380\n",
            "Epoch 20/60\n",
            "67/67 [==============================] - 2s 25ms/step - loss: 1.5248 - accuracy: 0.5122 - val_loss: 1.5021 - val_accuracy: 0.5360\n",
            "Epoch 21/60\n",
            "67/67 [==============================] - 2s 25ms/step - loss: 1.5191 - accuracy: 0.5199 - val_loss: 1.4831 - val_accuracy: 0.5413\n",
            "Epoch 22/60\n",
            "67/67 [==============================] - 2s 25ms/step - loss: 1.4939 - accuracy: 0.5247 - val_loss: 1.4867 - val_accuracy: 0.5373\n",
            "Epoch 23/60\n",
            "67/67 [==============================] - 2s 24ms/step - loss: 1.4888 - accuracy: 0.5239 - val_loss: 1.4678 - val_accuracy: 0.5447\n",
            "Epoch 24/60\n",
            "67/67 [==============================] - 2s 24ms/step - loss: 1.4826 - accuracy: 0.5242 - val_loss: 1.4643 - val_accuracy: 0.5340\n",
            "Epoch 25/60\n",
            "67/67 [==============================] - 2s 24ms/step - loss: 1.4765 - accuracy: 0.5278 - val_loss: 1.4514 - val_accuracy: 0.5453\n",
            "Epoch 26/60\n",
            "67/67 [==============================] - 2s 24ms/step - loss: 1.4569 - accuracy: 0.5320 - val_loss: 1.4535 - val_accuracy: 0.5387\n",
            "Epoch 27/60\n",
            "67/67 [==============================] - 2s 24ms/step - loss: 1.4446 - accuracy: 0.5314 - val_loss: 1.4404 - val_accuracy: 0.5533\n",
            "Epoch 28/60\n",
            "67/67 [==============================] - 2s 24ms/step - loss: 1.4366 - accuracy: 0.5344 - val_loss: 1.4433 - val_accuracy: 0.5527\n",
            "Epoch 29/60\n",
            "67/67 [==============================] - 2s 24ms/step - loss: 1.4304 - accuracy: 0.5335 - val_loss: 1.4333 - val_accuracy: 0.5547\n",
            "Epoch 30/60\n",
            "67/67 [==============================] - 2s 24ms/step - loss: 1.4150 - accuracy: 0.5415 - val_loss: 1.4298 - val_accuracy: 0.5540\n",
            "Epoch 31/60\n",
            "67/67 [==============================] - 2s 24ms/step - loss: 1.4191 - accuracy: 0.5414 - val_loss: 1.4477 - val_accuracy: 0.5500\n",
            "Epoch 32/60\n",
            "67/67 [==============================] - 2s 24ms/step - loss: 1.4031 - accuracy: 0.5498 - val_loss: 1.4274 - val_accuracy: 0.5573\n",
            "Epoch 33/60\n",
            "67/67 [==============================] - 2s 24ms/step - loss: 1.3986 - accuracy: 0.5499 - val_loss: 1.4291 - val_accuracy: 0.5547\n",
            "Epoch 34/60\n",
            "67/67 [==============================] - 2s 24ms/step - loss: 1.3894 - accuracy: 0.5504 - val_loss: 1.4347 - val_accuracy: 0.5573\n",
            "Epoch 35/60\n",
            "67/67 [==============================] - 2s 24ms/step - loss: 1.3797 - accuracy: 0.5539 - val_loss: 1.4292 - val_accuracy: 0.5513\n"
          ]
        }
      ]
    },
    {
      "cell_type": "markdown",
      "source": [
        "#### Ζητούμενο 3"
      ],
      "metadata": {
        "id": "glLK8sdMbDQO"
      }
    },
    {
      "cell_type": "markdown",
      "source": [
        "Απεικόνιση πρώτου ζητουμένου"
      ],
      "metadata": {
        "id": "s1aQBEb3bHb-"
      }
    },
    {
      "cell_type": "code",
      "source": [
        "plot(MyCNN1_history,\"MyCNN1\")\n",
        "plt.show()"
      ],
      "metadata": {
        "colab": {
          "base_uri": "https://localhost:8080/",
          "height": 295
        },
        "id": "psyLi9-KbM2t",
        "outputId": "644e3f5c-cdd8-40a4-fee1-0b960fea459c"
      },
      "execution_count": 57,
      "outputs": [
        {
          "output_type": "display_data",
          "data": {
            "text/plain": [
              "<Figure size 432x288 with 1 Axes>"
            ],
            "image/png": "[encoded data removed]"
          },
          "metadata": {
            "needs_background": "light"
          }
        }
      ]
    },
    {
      "cell_type": "markdown",
      "source": [
        "Απεικόνιση δεύτερου ζητουμένου"
      ],
      "metadata": {
        "id": "YOf3e-zEdSO3"
      }
    },
    {
      "cell_type": "code",
      "source": [
        "plot(MyCNN2_history,\"MyCNN2\")\n",
        "plt.show()"
      ],
      "metadata": {
        "colab": {
          "base_uri": "https://localhost:8080/",
          "height": 295
        },
        "id": "xrrIGIugdWLU",
        "outputId": "2efe9b97-9004-4a22-f78e-a6ca330820ce"
      },
      "execution_count": 58,
      "outputs": [
        {
          "output_type": "display_data",
          "data": {
            "text/plain": [
              "<Figure size 432x288 with 1 Axes>"
            ],
            "image/png": "[encoded data removed]"
          },
          "metadata": {
            "needs_background": "light"
          }
        }
      ]
    },
    {
      "cell_type": "markdown",
      "source": [
        "Αξιολόγηση:"
      ],
      "metadata": {
        "id": "a-zz8qxNd9lC"
      }
    },
    {
      "cell_type": "code",
      "source": [
        "print(\"MyCNN1:\")\n",
        "MyCNN1.evaluate(x_test, y_test, verbose=2)\n",
        "MyCNN1.evaluate(x_val, y_val, verbose=2)\n",
        "print(\"\\n\")\n",
        "print(\"MyCNN2:\")\n",
        "MyCNN2.evaluate(x_test, y_test, verbose=2)\n",
        "MyCNN2.evaluate(x_val, y_val, verbose=2)\n",
        "print(\"\\n\")"
      ],
      "metadata": {
        "colab": {
          "base_uri": "https://localhost:8080/"
        },
        "id": "brxWSsGieBIz",
        "outputId": "6f2180cb-5fae-4d6a-8b52-7d010771ec78"
      },
      "execution_count": 59,
      "outputs": [
        {
          "output_type": "stream",
          "name": "stdout",
          "text": [
            "MyCNN1:\n",
            "63/63 - 1s - loss: 3.0473 - accuracy: 0.0500 - 1s/epoch - 23ms/step\n",
            "47/47 - 1s - loss: 3.0493 - accuracy: 0.0480 - 700ms/epoch - 15ms/step\n",
            "\n",
            "\n",
            "MyCNN2:\n",
            "63/63 - 1s - loss: 1.4119 - accuracy: 0.5430 - 551ms/epoch - 9ms/step\n",
            "47/47 - 0s - loss: 1.4292 - accuracy: 0.5513 - 422ms/epoch - 9ms/step\n",
            "\n",
            "\n"
          ]
        }
      ]
    },
    {
      "cell_type": "markdown",
      "source": [
        "<p align=\"justify\">Μπορούμε να δούμε πως παρουσιάζονται αλλαγές στον αριθμό των εποχών (μόλις 6) και την ταχύτητα σύγκλισης. Αυτές οι παρατηρήσεις βασίζονται στην ύπαρξη έτοιμων προεκπαιδευμένων layers και στην ύπαρξη μεγαλύτερης προοδου ανά εποχή σε σχέση με το Ερώτημα 3.</p>\n",
        "\n",
        "<p align=\"justify\">Στην πρώτη περίπτωση, έχουμε μόλις 6 εποχές και μεγάλη ταχύτητα σύγκλισης επειδή δεν είναι trainable κανένα επίπεδο του VGG16. Όμως φαίνεται να επηρεάζεται αρνητικά το μοντέλο όπως βλέπουμε από το υψηλό loss και χαμηλό accuraccy.</p>\n",
        "\n",
        "<p align=\"justify\">Στη δεύτερη περίπτωση, όμως γίνεται εκπαίδευση κάποιων layers του VGG16, οπότε βλέπουμε πως χρειάζονται περισσότερες εποχές και χρόνος μέχρι να έχουμε σύγκλιση. Επίσης οι συνέπειες χρήσης transfer learning είναι πολύ πιο ήπιες σε σχέση με τις μετρικές loss και accuraccy.</p>"
      ],
      "metadata": {
        "id": "vr45pw9ZewUB"
      }
    },
    {
      "cell_type": "markdown",
      "metadata": {
        "id": "M_T6Y9EJDuOu"
      },
      "source": [
        "## Διαχείριση μνήμης (TFRecord)\n",
        "Η φόρτωση δεδομένων με τον τρόπο που το κάναμε παραπάνω στο απλό παράδειγμα υλοποίησης είναι πολύ βολική αλλά δεν είναι αποτελεσματική ως προς τη διαχείριση της μνήμης. Συγκεκριμένα, με τον τρόπο αυτό, τα δεδομένα αποθηκεύονται απευθείας σε μεταβλητές, οι οποίες όλες μαζί καταλαμβάνουν τη RAM της CPU ή της GPU, κάτι που κάνει αδύνατη τη διαχείριση μεγάλων datasets ή τον μεταχηματισμό των δεδομένων όπως όταν κάνουμε αύξηση δεδομένων (data augmentation).\n",
        "\n",
        "Για να παρακαμφθεί αυτό το πρόβλημα, υπάρχει η δυνατότητα της σειριοποίησης των δεδομένων (serialization) και της αποθήκευσής τους σε αρχεία μεσαίου μεγέθους (κάποιων MB) τα οποία μπορούν να αναγνωστούν γραμμικά.\n",
        "\n",
        "Το φορμάτ TFRecord είναι ένα φορμάτ που επιτρέπει την αποθήκευση σειράς δυαδικών εγγραφών. Διαβάστε σχετικά για το [TFRecord and tf.Example](https://www.tensorflow.org/tutorials/load_data/tfrecord) και [tf.data: Build TensorFlow input pipelines](https://www.tensorflow.org/guide/data). \n",
        "\n",
        "Σημειώστε ότι με τη μέθοδο αυτή θα πρέπει να γίνει import η `tensorflow_datasets` και να χρησιμοποιήσουμε την `tfds.load` ώστε να αποθηκευθεί το σύνολο δεδομένων σε αρχεία tfrecord στο δίσκο (δείτε [εδώ](https://colab.research.google.com/github/tensorflow/datasets/blob/master/docs/overview.ipynb) ένα παράδειγμα). Φυσικά μπορούμε να μετατρέψουμε και τα πρωτογενή δεδομένα (raw data) του dataset όπως αρχεία jpg σε φορματ tfrecord όπως [εδώ](https://towardsdatascience.com/working-with-tfrecords-and-tf-train-example-36d111b3ff4d).\n"
      ]
    }
  ],
  "metadata": {
    "colab": {
      "collapsed_sections": [
        "LpnEVMCYYlnD",
        "M_T6Y9EJDuOu"
      ],
      "name": "2η_Ομαδική_Εργασία.ipynb",
      "provenance": [],
      "toc_visible": true
    },
    "kernelspec": {
      "display_name": "Python 3",
      "name": "python3"
    },
    "accelerator": "GPU"
  },
  "nbformat": 4,
  "nbformat_minor": 0
}